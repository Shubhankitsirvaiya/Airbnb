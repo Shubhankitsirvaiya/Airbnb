{
  "nbformat": 4,
  "nbformat_minor": 0,
  "metadata": {
    "kernelspec": {
      "display_name": "Python 3",
      "language": "python",
      "name": "python3"
    },
    "language_info": {
      "codemirror_mode": {
        "name": "ipython",
        "version": 3
      },
      "file_extension": ".py",
      "mimetype": "text/x-python",
      "name": "python",
      "nbconvert_exporter": "python",
      "pygments_lexer": "ipython3",
      "version": "3.6.6"
    },
    "colab": {
      "name": "Complete Airbnb Bookings Analysis - Capstone Project.ipynb",
      "provenance": [],
      "collapsed_sections": [],
      "include_colab_link": true
    }
  },
  "cells": [
    {
      "cell_type": "markdown",
      "metadata": {
        "id": "view-in-github",
        "colab_type": "text"
      },
      "source": [
        "<a href=\"https://colab.research.google.com/github/Shubhankitsirvaiya/Airbnb/blob/main/Complete_Airbnb_Bookings_Analysis_Capstone_Project.ipynb\" target=\"_parent\"><img src=\"https://colab.research.google.com/assets/colab-badge.svg\" alt=\"Open In Colab\"/></a>"
      ]
    },
    {
      "cell_type": "markdown",
      "metadata": {
        "id": "Y06xIdG26kRF"
      },
      "source": [
        "## <b> Since 2008, guests and hosts have used Airbnb to expand on traveling possibilities and present a more unique, personalized way of experiencing the world. Today, Airbnb became one of a kind service that is used and recognized by the whole world. Data analysis on millions of listings provided through Airbnb is a crucial factor for the company. These millions of listings generate a lot of data - data that can be analyzed and used for security, business decisions, understanding of customers' and providers' (hosts) behavior and performance on the platform, guiding marketing initiatives, implementation of innovative additional services and much more. </b>\n",
        "\n",
        "## <b>This dataset has around 49,000 observations in it with 16 columns and it is a mix between categorical and numeric values. </b>\n",
        "\n",
        "## <b> Explore and analyze the data to discover key understandings (not limited to these) such as : \n",
        "* What can we learn about different hosts and areas?\n",
        "* What can we learn from predictions? (ex: locations, prices, reviews, etc)\n",
        "* Which hosts are the busiest and why?\n",
        "* Is there any noticeable difference of traffic among different areas and what could be the reason for it? </b>"
      ]
    },
    {
      "cell_type": "markdown",
      "metadata": {
        "id": "JrCH1qtB2epW"
      },
      "source": [
        "#Getting the Data and Importing Libraries"
      ]
    },
    {
      "cell_type": "code",
      "metadata": {
        "colab": {
          "base_uri": "https://localhost:8080/"
        },
        "id": "Sv0kxnJzZZZu",
        "outputId": "22b14f9f-cb1b-4b85-ef5d-8f8978a2a153"
      },
      "source": [
        "from google.colab import drive\n",
        "drive.mount('/content/drive')"
      ],
      "execution_count": 28,
      "outputs": [
        {
          "output_type": "stream",
          "text": [
            "Drive already mounted at /content/drive; to attempt to forcibly remount, call drive.mount(\"/content/drive\", force_remount=True).\n"
          ],
          "name": "stdout"
        }
      ]
    },
    {
      "cell_type": "code",
      "metadata": {
        "id": "dByMsuzT8Tnw"
      },
      "source": [
        "import pandas as pd\n",
        "import numpy as np\n",
        "import matplotlib.pyplot as plt\n",
        "%matplotlib inline\n",
        "import seaborn as sns"
      ],
      "execution_count": 29,
      "outputs": []
    },
    {
      "cell_type": "code",
      "metadata": {
        "id": "LXziBVm3ZsLi"
      },
      "source": [
        "df=pd.read_csv('/content/drive/MyDrive/Copy of Airbnb NYC 2019.csv')"
      ],
      "execution_count": 30,
      "outputs": []
    },
    {
      "cell_type": "code",
      "metadata": {
        "colab": {
          "base_uri": "https://localhost:8080/",
          "height": 400
        },
        "id": "Bow3_qJFSscY",
        "outputId": "cdb8e7bf-39de-46e8-a7d5-6c37f3097119"
      },
      "source": [
        "df.head()"
      ],
      "execution_count": 31,
      "outputs": [
        {
          "output_type": "execute_result",
          "data": {
            "text/html": [
              "<div>\n",
              "<style scoped>\n",
              "    .dataframe tbody tr th:only-of-type {\n",
              "        vertical-align: middle;\n",
              "    }\n",
              "\n",
              "    .dataframe tbody tr th {\n",
              "        vertical-align: top;\n",
              "    }\n",
              "\n",
              "    .dataframe thead th {\n",
              "        text-align: right;\n",
              "    }\n",
              "</style>\n",
              "<table border=\"1\" class=\"dataframe\">\n",
              "  <thead>\n",
              "    <tr style=\"text-align: right;\">\n",
              "      <th></th>\n",
              "      <th>id</th>\n",
              "      <th>name</th>\n",
              "      <th>host_id</th>\n",
              "      <th>host_name</th>\n",
              "      <th>neighbourhood_group</th>\n",
              "      <th>neighbourhood</th>\n",
              "      <th>latitude</th>\n",
              "      <th>longitude</th>\n",
              "      <th>room_type</th>\n",
              "      <th>price</th>\n",
              "      <th>minimum_nights</th>\n",
              "      <th>number_of_reviews</th>\n",
              "      <th>last_review</th>\n",
              "      <th>reviews_per_month</th>\n",
              "      <th>calculated_host_listings_count</th>\n",
              "      <th>availability_365</th>\n",
              "    </tr>\n",
              "  </thead>\n",
              "  <tbody>\n",
              "    <tr>\n",
              "      <th>0</th>\n",
              "      <td>2539</td>\n",
              "      <td>Clean &amp; quiet apt home by the park</td>\n",
              "      <td>2787</td>\n",
              "      <td>John</td>\n",
              "      <td>Brooklyn</td>\n",
              "      <td>Kensington</td>\n",
              "      <td>40.64749</td>\n",
              "      <td>-73.97237</td>\n",
              "      <td>Private room</td>\n",
              "      <td>149</td>\n",
              "      <td>1</td>\n",
              "      <td>9</td>\n",
              "      <td>2018-10-19</td>\n",
              "      <td>0.21</td>\n",
              "      <td>6</td>\n",
              "      <td>365</td>\n",
              "    </tr>\n",
              "    <tr>\n",
              "      <th>1</th>\n",
              "      <td>2595</td>\n",
              "      <td>Skylit Midtown Castle</td>\n",
              "      <td>2845</td>\n",
              "      <td>Jennifer</td>\n",
              "      <td>Manhattan</td>\n",
              "      <td>Midtown</td>\n",
              "      <td>40.75362</td>\n",
              "      <td>-73.98377</td>\n",
              "      <td>Entire home/apt</td>\n",
              "      <td>225</td>\n",
              "      <td>1</td>\n",
              "      <td>45</td>\n",
              "      <td>2019-05-21</td>\n",
              "      <td>0.38</td>\n",
              "      <td>2</td>\n",
              "      <td>355</td>\n",
              "    </tr>\n",
              "    <tr>\n",
              "      <th>2</th>\n",
              "      <td>3647</td>\n",
              "      <td>THE VILLAGE OF HARLEM....NEW YORK !</td>\n",
              "      <td>4632</td>\n",
              "      <td>Elisabeth</td>\n",
              "      <td>Manhattan</td>\n",
              "      <td>Harlem</td>\n",
              "      <td>40.80902</td>\n",
              "      <td>-73.94190</td>\n",
              "      <td>Private room</td>\n",
              "      <td>150</td>\n",
              "      <td>3</td>\n",
              "      <td>0</td>\n",
              "      <td>NaN</td>\n",
              "      <td>NaN</td>\n",
              "      <td>1</td>\n",
              "      <td>365</td>\n",
              "    </tr>\n",
              "    <tr>\n",
              "      <th>3</th>\n",
              "      <td>3831</td>\n",
              "      <td>Cozy Entire Floor of Brownstone</td>\n",
              "      <td>4869</td>\n",
              "      <td>LisaRoxanne</td>\n",
              "      <td>Brooklyn</td>\n",
              "      <td>Clinton Hill</td>\n",
              "      <td>40.68514</td>\n",
              "      <td>-73.95976</td>\n",
              "      <td>Entire home/apt</td>\n",
              "      <td>89</td>\n",
              "      <td>1</td>\n",
              "      <td>270</td>\n",
              "      <td>2019-07-05</td>\n",
              "      <td>4.64</td>\n",
              "      <td>1</td>\n",
              "      <td>194</td>\n",
              "    </tr>\n",
              "    <tr>\n",
              "      <th>4</th>\n",
              "      <td>5022</td>\n",
              "      <td>Entire Apt: Spacious Studio/Loft by central park</td>\n",
              "      <td>7192</td>\n",
              "      <td>Laura</td>\n",
              "      <td>Manhattan</td>\n",
              "      <td>East Harlem</td>\n",
              "      <td>40.79851</td>\n",
              "      <td>-73.94399</td>\n",
              "      <td>Entire home/apt</td>\n",
              "      <td>80</td>\n",
              "      <td>10</td>\n",
              "      <td>9</td>\n",
              "      <td>2018-11-19</td>\n",
              "      <td>0.10</td>\n",
              "      <td>1</td>\n",
              "      <td>0</td>\n",
              "    </tr>\n",
              "  </tbody>\n",
              "</table>\n",
              "</div>"
            ],
            "text/plain": [
              "     id  ... availability_365\n",
              "0  2539  ...              365\n",
              "1  2595  ...              355\n",
              "2  3647  ...              365\n",
              "3  3831  ...              194\n",
              "4  5022  ...                0\n",
              "\n",
              "[5 rows x 16 columns]"
            ]
          },
          "metadata": {
            "tags": []
          },
          "execution_count": 31
        }
      ]
    },
    {
      "cell_type": "markdown",
      "metadata": {
        "id": "YBxosCTl2srg"
      },
      "source": [
        "# Taking a Snapshot of Complete Data!!!\n",
        "lets see what we got!!"
      ]
    },
    {
      "cell_type": "code",
      "metadata": {
        "colab": {
          "base_uri": "https://localhost:8080/"
        },
        "id": "H0hBCxvDQ4hO",
        "outputId": "75e431ee-1824-4f3c-fad8-3cb503a87bd1"
      },
      "source": [
        "df.info()"
      ],
      "execution_count": 32,
      "outputs": [
        {
          "output_type": "stream",
          "text": [
            "<class 'pandas.core.frame.DataFrame'>\n",
            "RangeIndex: 48895 entries, 0 to 48894\n",
            "Data columns (total 16 columns):\n",
            " #   Column                          Non-Null Count  Dtype  \n",
            "---  ------                          --------------  -----  \n",
            " 0   id                              48895 non-null  int64  \n",
            " 1   name                            48879 non-null  object \n",
            " 2   host_id                         48895 non-null  int64  \n",
            " 3   host_name                       48874 non-null  object \n",
            " 4   neighbourhood_group             48895 non-null  object \n",
            " 5   neighbourhood                   48895 non-null  object \n",
            " 6   latitude                        48895 non-null  float64\n",
            " 7   longitude                       48895 non-null  float64\n",
            " 8   room_type                       48895 non-null  object \n",
            " 9   price                           48895 non-null  int64  \n",
            " 10  minimum_nights                  48895 non-null  int64  \n",
            " 11  number_of_reviews               48895 non-null  int64  \n",
            " 12  last_review                     38843 non-null  object \n",
            " 13  reviews_per_month               38843 non-null  float64\n",
            " 14  calculated_host_listings_count  48895 non-null  int64  \n",
            " 15  availability_365                48895 non-null  int64  \n",
            "dtypes: float64(3), int64(7), object(6)\n",
            "memory usage: 6.0+ MB\n"
          ],
          "name": "stdout"
        }
      ]
    },
    {
      "cell_type": "markdown",
      "metadata": {
        "id": "2PU4662nZeSB"
      },
      "source": [
        "# Correlation of each field"
      ]
    },
    {
      "cell_type": "code",
      "metadata": {
        "colab": {
          "base_uri": "https://localhost:8080/",
          "height": 592
        },
        "id": "fa_bLnbSHuq4",
        "outputId": "b97c0109-e707-4988-8778-2bb5c873ff48"
      },
      "source": [
        "plt.figure(figsize=(20,7))\n",
        "corr_=df.corr()\n",
        "sns.heatmap(corr_,annot=True)"
      ],
      "execution_count": 33,
      "outputs": [
        {
          "output_type": "execute_result",
          "data": {
            "text/plain": [
              "<matplotlib.axes._subplots.AxesSubplot at 0x7fd189fb23d0>"
            ]
          },
          "metadata": {
            "tags": []
          },
          "execution_count": 33
        },
        {
          "output_type": "display_data",
          "data": {
            "image/png": "[encoded data removed]",
            "text/plain": [
              "<Figure size 1440x504 with 2 Axes>"
            ]
          },
          "metadata": {
            "tags": [],
            "needs_background": "light"
          }
        }
      ]
    },
    {
      "cell_type": "markdown",
      "metadata": {
        "id": "ffMB6b_XepVN"
      },
      "source": [
        "**So here we can infer that no two columns are highly correlated**"
      ]
    },
    {
      "cell_type": "markdown",
      "metadata": {
        "id": "0MplKxOtZuBR"
      },
      "source": [
        "# Comparasion of number of property in each neighbourhood group"
      ]
    },
    {
      "cell_type": "code",
      "metadata": {
        "colab": {
          "base_uri": "https://localhost:8080/",
          "height": 465
        },
        "id": "-RW1KDejUewA",
        "outputId": "1b368333-584d-45c5-bc74-c5bef5a2fe1b"
      },
      "source": [
        "property_count=df['neighbourhood_group'].value_counts().reset_index()\n",
        "w=0.5\n",
        " \n",
        "plt.figure(figsize=(10,6))\n",
        "\n",
        "bar1=np.arange(5)\n",
        "plt.bar(bar1,property_count['neighbourhood_group'],w,color='rgbkymc')\n",
        "plt.xlabel('neighbourhood_group',size=15)\n",
        "plt.ylabel('count of properties',size=15)\n",
        "plt.title('',size=20)\n",
        "plt.xticks(bar1,property_count['index'])\n",
        "plt.legend()\n",
        "\n",
        " \n",
        "plt.show()\n",
        "\n"
      ],
      "execution_count": 34,
      "outputs": [
        {
          "output_type": "stream",
          "text": [
            "/usr/local/lib/python3.7/dist-packages/ipykernel_launcher.py:7: MatplotlibDeprecationWarning: Using a string of single character colors as a color sequence is deprecated. Use an explicit list instead.\n",
            "  import sys\n",
            "No handles with labels found to put in legend.\n"
          ],
          "name": "stderr"
        },
        {
          "output_type": "display_data",
          "data": {
            "image/png": "[encoded data removed]",
            "text/plain": [
              "<Figure size 720x432 with 1 Axes>"
            ]
          },
          "metadata": {
            "tags": [],
            "needs_background": "light"
          }
        }
      ]
    },
    {
      "cell_type": "markdown",
      "metadata": {
        "id": "p2QWKpJBT_bv"
      },
      "source": [
        "**From above plot we can conclude than most number of properties are in Manhatan and Brookyln reason behind this is demand in this two neighbourhood group is high.**\n",
        "\n",
        "\n"
      ]
    },
    {
      "cell_type": "markdown",
      "metadata": {
        "id": "JlCwfn8QaBJi"
      },
      "source": [
        "# Comparasion of number of reviews in each neighbourhood group"
      ]
    },
    {
      "cell_type": "code",
      "metadata": {
        "colab": {
          "base_uri": "https://localhost:8080/",
          "height": 465
        },
        "id": "Hc-1Dg_pYvoH",
        "outputId": "f3a634d5-6e6c-4d50-f929-b1f3bb644ecb"
      },
      "source": [
        "review=df.groupby('neighbourhood_group')['number_of_reviews'].sum().reset_index()\n",
        "w=0.5\n",
        " \n",
        "\n",
        "plt.figure(figsize=(10,6))\n",
        "\n",
        "bar1=np.arange(5)\n",
        "plt.bar(bar1,review['number_of_reviews'],w,color='rgbkymc')\n",
        "plt.xlabel('neighbourhood_group',size=15)\n",
        "plt.ylabel('count of reviews',size=15)\n",
        "plt.title('',size=20)\n",
        "plt.xticks(bar1,review['neighbourhood_group'])\n",
        "plt.legend()\n",
        "\n",
        " \n",
        "plt.show()"
      ],
      "execution_count": 35,
      "outputs": [
        {
          "output_type": "stream",
          "text": [
            "/usr/local/lib/python3.7/dist-packages/ipykernel_launcher.py:8: MatplotlibDeprecationWarning: Using a string of single character colors as a color sequence is deprecated. Use an explicit list instead.\n",
            "  \n",
            "No handles with labels found to put in legend.\n"
          ],
          "name": "stderr"
        },
        {
          "output_type": "display_data",
          "data": {
            "image/png": "[encoded data removed]",
            "text/plain": [
              "<Figure size 720x432 with 1 Axes>"
            ]
          },
          "metadata": {
            "tags": [],
            "needs_background": "light"
          }
        }
      ]
    },
    {
      "cell_type": "markdown",
      "metadata": {
        "id": "XJ_Udy6BmZvz"
      },
      "source": [
        "**More number of reveiws are available for Brooklyn and Manhatan and Very less for Staten Island and bronx**"
      ]
    },
    {
      "cell_type": "markdown",
      "metadata": {
        "id": "jn7l7SOBe_VL"
      },
      "source": [
        "We can relate this analysis for number of customers ,considering same customer behaviour towards reviews across all groups"
      ]
    },
    {
      "cell_type": "markdown",
      "metadata": {
        "id": "CktX1DZPaLEr"
      },
      "source": [
        "# Making minimum night category"
      ]
    },
    {
      "cell_type": "markdown",
      "metadata": {
        "id": "_tkPnAAqfRUh"
      },
      "source": [
        "**We can utilize the miminum night column but is has would be easier if we first convert it to categorical column**\n",
        "\n",
        "---\n",
        "\n"
      ]
    },
    {
      "cell_type": "code",
      "metadata": {
        "colab": {
          "base_uri": "https://localhost:8080/",
          "height": 400
        },
        "id": "-TILdSWmtMyZ",
        "outputId": "79645e2a-8d00-4e07-a746-762aecc8c9b6"
      },
      "source": [
        "df.head()"
      ],
      "execution_count": 36,
      "outputs": [
        {
          "output_type": "execute_result",
          "data": {
            "text/html": [
              "<div>\n",
              "<style scoped>\n",
              "    .dataframe tbody tr th:only-of-type {\n",
              "        vertical-align: middle;\n",
              "    }\n",
              "\n",
              "    .dataframe tbody tr th {\n",
              "        vertical-align: top;\n",
              "    }\n",
              "\n",
              "    .dataframe thead th {\n",
              "        text-align: right;\n",
              "    }\n",
              "</style>\n",
              "<table border=\"1\" class=\"dataframe\">\n",
              "  <thead>\n",
              "    <tr style=\"text-align: right;\">\n",
              "      <th></th>\n",
              "      <th>id</th>\n",
              "      <th>name</th>\n",
              "      <th>host_id</th>\n",
              "      <th>host_name</th>\n",
              "      <th>neighbourhood_group</th>\n",
              "      <th>neighbourhood</th>\n",
              "      <th>latitude</th>\n",
              "      <th>longitude</th>\n",
              "      <th>room_type</th>\n",
              "      <th>price</th>\n",
              "      <th>minimum_nights</th>\n",
              "      <th>number_of_reviews</th>\n",
              "      <th>last_review</th>\n",
              "      <th>reviews_per_month</th>\n",
              "      <th>calculated_host_listings_count</th>\n",
              "      <th>availability_365</th>\n",
              "    </tr>\n",
              "  </thead>\n",
              "  <tbody>\n",
              "    <tr>\n",
              "      <th>0</th>\n",
              "      <td>2539</td>\n",
              "      <td>Clean &amp; quiet apt home by the park</td>\n",
              "      <td>2787</td>\n",
              "      <td>John</td>\n",
              "      <td>Brooklyn</td>\n",
              "      <td>Kensington</td>\n",
              "      <td>40.64749</td>\n",
              "      <td>-73.97237</td>\n",
              "      <td>Private room</td>\n",
              "      <td>149</td>\n",
              "      <td>1</td>\n",
              "      <td>9</td>\n",
              "      <td>2018-10-19</td>\n",
              "      <td>0.21</td>\n",
              "      <td>6</td>\n",
              "      <td>365</td>\n",
              "    </tr>\n",
              "    <tr>\n",
              "      <th>1</th>\n",
              "      <td>2595</td>\n",
              "      <td>Skylit Midtown Castle</td>\n",
              "      <td>2845</td>\n",
              "      <td>Jennifer</td>\n",
              "      <td>Manhattan</td>\n",
              "      <td>Midtown</td>\n",
              "      <td>40.75362</td>\n",
              "      <td>-73.98377</td>\n",
              "      <td>Entire home/apt</td>\n",
              "      <td>225</td>\n",
              "      <td>1</td>\n",
              "      <td>45</td>\n",
              "      <td>2019-05-21</td>\n",
              "      <td>0.38</td>\n",
              "      <td>2</td>\n",
              "      <td>355</td>\n",
              "    </tr>\n",
              "    <tr>\n",
              "      <th>2</th>\n",
              "      <td>3647</td>\n",
              "      <td>THE VILLAGE OF HARLEM....NEW YORK !</td>\n",
              "      <td>4632</td>\n",
              "      <td>Elisabeth</td>\n",
              "      <td>Manhattan</td>\n",
              "      <td>Harlem</td>\n",
              "      <td>40.80902</td>\n",
              "      <td>-73.94190</td>\n",
              "      <td>Private room</td>\n",
              "      <td>150</td>\n",
              "      <td>3</td>\n",
              "      <td>0</td>\n",
              "      <td>NaN</td>\n",
              "      <td>NaN</td>\n",
              "      <td>1</td>\n",
              "      <td>365</td>\n",
              "    </tr>\n",
              "    <tr>\n",
              "      <th>3</th>\n",
              "      <td>3831</td>\n",
              "      <td>Cozy Entire Floor of Brownstone</td>\n",
              "      <td>4869</td>\n",
              "      <td>LisaRoxanne</td>\n",
              "      <td>Brooklyn</td>\n",
              "      <td>Clinton Hill</td>\n",
              "      <td>40.68514</td>\n",
              "      <td>-73.95976</td>\n",
              "      <td>Entire home/apt</td>\n",
              "      <td>89</td>\n",
              "      <td>1</td>\n",
              "      <td>270</td>\n",
              "      <td>2019-07-05</td>\n",
              "      <td>4.64</td>\n",
              "      <td>1</td>\n",
              "      <td>194</td>\n",
              "    </tr>\n",
              "    <tr>\n",
              "      <th>4</th>\n",
              "      <td>5022</td>\n",
              "      <td>Entire Apt: Spacious Studio/Loft by central park</td>\n",
              "      <td>7192</td>\n",
              "      <td>Laura</td>\n",
              "      <td>Manhattan</td>\n",
              "      <td>East Harlem</td>\n",
              "      <td>40.79851</td>\n",
              "      <td>-73.94399</td>\n",
              "      <td>Entire home/apt</td>\n",
              "      <td>80</td>\n",
              "      <td>10</td>\n",
              "      <td>9</td>\n",
              "      <td>2018-11-19</td>\n",
              "      <td>0.10</td>\n",
              "      <td>1</td>\n",
              "      <td>0</td>\n",
              "    </tr>\n",
              "  </tbody>\n",
              "</table>\n",
              "</div>"
            ],
            "text/plain": [
              "     id  ... availability_365\n",
              "0  2539  ...              365\n",
              "1  2595  ...              355\n",
              "2  3647  ...              365\n",
              "3  3831  ...              194\n",
              "4  5022  ...                0\n",
              "\n",
              "[5 rows x 16 columns]"
            ]
          },
          "metadata": {
            "tags": []
          },
          "execution_count": 36
        }
      ]
    },
    {
      "cell_type": "code",
      "metadata": {
        "id": "NIRCU4HAJh9R"
      },
      "source": [
        "def minimum_night_cat(x):\n",
        "  if x==1:\n",
        "    return 'one day'\n",
        "  if x>1 and x<=3:\n",
        "    return '2-3 days'\n",
        "  if x>3 and x<7:\n",
        "    return 'few days'\n",
        "  elif x==7:\n",
        "    return '1 week'\n",
        "  elif x>7 and x<=29:\n",
        "    return 'less than 1 month'\n",
        "  elif x==30:\n",
        "    return '1 month'\n",
        "  elif x>30 and x<180:\n",
        "    return 'more than a month'\n",
        "  elif x>=180 and x<=365:\n",
        "    return 'more than half year'\n",
        "  elif x>365:\n",
        "    return 'more than a year'\n",
        "df['minimum_night_cat']=df['minimum_nights'].apply(minimum_night_cat)\n"
      ],
      "execution_count": 37,
      "outputs": []
    },
    {
      "cell_type": "code",
      "metadata": {
        "id": "laMGVtidzJR8"
      },
      "source": [
        "\n",
        "d=pd.DataFrame(df.groupby('minimum_night_cat')['id'].count()).rename({'id':'count'},axis=1).reset_index().sort_values('count',ascending=False)"
      ],
      "execution_count": 38,
      "outputs": []
    },
    {
      "cell_type": "code",
      "metadata": {
        "colab": {
          "base_uri": "https://localhost:8080/",
          "height": 630
        },
        "id": "sfj7D64FzS_a",
        "outputId": "822f9b41-6d05-4f2e-c37a-94bb5f9701c0"
      },
      "source": [
        "\n",
        "w=0.5\n",
        " \n",
        "\n",
        "plt.figure(figsize=(10,7))\n",
        "\n",
        "bar1=np.arange(9)\n",
        "plt.bar(bar1,d['count'],w,color='rgbkymc')\n",
        "plt.xlabel('type of minimum_night_cat',size=15)\n",
        "plt.ylabel('Number of host',size=15)\n",
        "plt.title('',size=20)\n",
        "plt.xticks(bar1,d['minimum_night_cat'],rotation=90,fontsize=12)\n",
        "plt.legend()\n",
        "\n",
        " \n",
        "plt.show()"
      ],
      "execution_count": 39,
      "outputs": [
        {
          "output_type": "stream",
          "text": [
            "/usr/local/lib/python3.7/dist-packages/ipykernel_launcher.py:8: MatplotlibDeprecationWarning: Using a string of single character colors as a color sequence is deprecated. Use an explicit list instead.\n",
            "  \n",
            "No handles with labels found to put in legend.\n"
          ],
          "name": "stderr"
        },
        {
          "output_type": "display_data",
          "data": {
            "image/png": "[encoded data removed]",
            "text/plain": [
              "<Figure size 720x504 with 1 Axes>"
            ]
          },
          "metadata": {
            "tags": [],
            "needs_background": "light"
          }
        }
      ]
    },
    {
      "cell_type": "markdown",
      "metadata": {
        "id": "fev06PRpgQUz"
      },
      "source": [
        "**Most of the host provide only one day minimum night stay**"
      ]
    },
    {
      "cell_type": "code",
      "metadata": {
        "colab": {
          "base_uri": "https://localhost:8080/"
        },
        "id": "Acpu7iJ6LCEv",
        "outputId": "35e918e2-113f-4c09-b70c-4294ebb71c0d"
      },
      "source": [
        "df[df['minimum_night_cat']=='only one day']['neighbourhood_group'].value_counts()\n",
        "\n"
      ],
      "execution_count": 40,
      "outputs": [
        {
          "output_type": "execute_result",
          "data": {
            "text/plain": [
              "Series([], Name: neighbourhood_group, dtype: int64)"
            ]
          },
          "metadata": {
            "tags": []
          },
          "execution_count": 40
        }
      ]
    },
    {
      "cell_type": "markdown",
      "metadata": {
        "id": "ZNvmfjYi3Y5F"
      },
      "source": [
        "**we can say that most of the one night stay occurs in manhatten and in brooklyn these trips based on thier minimum night stay can be buisness trips **"
      ]
    },
    {
      "cell_type": "markdown",
      "metadata": {
        "id": "qHKKeDlMgKFS"
      },
      "source": [
        ""
      ]
    },
    {
      "cell_type": "markdown",
      "metadata": {
        "id": "c6fyZsyqaU63"
      },
      "source": [
        "# Converting last review to datetime and taking month from it"
      ]
    },
    {
      "cell_type": "code",
      "metadata": {
        "colab": {
          "base_uri": "https://localhost:8080/",
          "height": 309
        },
        "id": "P-vvYFMuMBnh",
        "outputId": "7d704d03-b123-4b9d-eb35-d94261177345"
      },
      "source": [
        "df['last_review'] = pd.to_datetime(df['last_review'], format='%Y-%m-%d')\n",
        "df['last_month']=df['last_review'].apply(lambda x: x.month)\n",
        "pd.DataFrame(df.groupby('last_month')['host_id'].count()).rename({'host_id':'count'},axis=1).plot.bar()\n",
        "plt.xlabel('month number of last review ',size=10)\n",
        "plt.ylabel('number of host',size=10)\n"
      ],
      "execution_count": 41,
      "outputs": [
        {
          "output_type": "execute_result",
          "data": {
            "text/plain": [
              "Text(0, 0.5, 'number of host')"
            ]
          },
          "metadata": {
            "tags": []
          },
          "execution_count": 41
        },
        {
          "output_type": "display_data",
          "data": {
            "image/png": "[encoded data removed]",
            "text/plain": [
              "<Figure size 432x288 with 1 Axes>"
            ]
          },
          "metadata": {
            "tags": [],
            "needs_background": "light"
          }
        }
      ]
    },
    {
      "cell_type": "markdown",
      "metadata": {
        "id": "408pwbHd3hjX"
      },
      "source": [
        "from here we can infer that assuming people give review after leaving the service most people leave/Change the peoperty in the 6 th month of the year"
      ]
    },
    {
      "cell_type": "code",
      "metadata": {
        "colab": {
          "base_uri": "https://localhost:8080/",
          "height": 991
        },
        "id": "JlyvhWd7Mcoc",
        "outputId": "88b2440c-472e-409f-cef4-5cb10abc03c9"
      },
      "source": [
        "pd.DataFrame(df.groupby('neighbourhood_group')['number_of_reviews'].sum().sort_values(ascending=False)).rename({'number_of_reviews':'count'},axis=1).plot.bar()\n",
        "## So brooklyl and Manhateten has most number of customers \n",
        "\n",
        "pd.DataFrame(df.groupby('neighbourhood_group')['price'].mean().sort_values(ascending=False)).rename({'price':'count'},axis=1).plot.bar()\n",
        "\n",
        "pd.DataFrame(df.groupby('neighbourhood_group')['host_id'].count().sort_values(ascending=False)).rename({'host_id':'count'},axis=1).plot.bar()"
      ],
      "execution_count": 42,
      "outputs": [
        {
          "output_type": "execute_result",
          "data": {
            "text/plain": [
              "<matplotlib.axes._subplots.AxesSubplot at 0x7fd18a697090>"
            ]
          },
          "metadata": {
            "tags": []
          },
          "execution_count": 42
        },
        {
          "output_type": "display_data",
          "data": {
            "image/png": "[encoded data removed]",
            "text/plain": [
              "<Figure size 432x288 with 1 Axes>"
            ]
          },
          "metadata": {
            "tags": [],
            "needs_background": "light"
          }
        },
        {
          "output_type": "display_data",
          "data": {
            "image/png": "[encoded data removed]",
            "text/plain": [
              "<Figure size 432x288 with 1 Axes>"
            ]
          },
          "metadata": {
            "tags": [],
            "needs_background": "light"
          }
        },
        {
          "output_type": "display_data",
          "data": {
            "image/png": "[encoded data removed]",
            "text/plain": [
              "<Figure size 432x288 with 1 Axes>"
            ]
          },
          "metadata": {
            "tags": [],
            "needs_background": "light"
          }
        }
      ]
    },
    {
      "cell_type": "markdown",
      "metadata": {
        "id": "RA6qKUmfM92C"
      },
      "source": [
        "**From above plots we can see that although demand(based on number of reviews) and supply(based on host_id) is similar for Manhatten and Brooklyn still the average price is very high in Manhatten**\n",
        "\n",
        "we can look or reason for that!!\n"
      ]
    },
    {
      "cell_type": "markdown",
      "metadata": {
        "id": "6KrsQnaAcjSJ"
      },
      "source": [
        "# Count of number of Properties in each type of room across different groups\n",
        "\n"
      ]
    },
    {
      "cell_type": "code",
      "metadata": {
        "colab": {
          "base_uri": "https://localhost:8080/",
          "height": 449
        },
        "id": "9icf12kzM9P1",
        "outputId": "84619d42-6f2c-4c82-e906-ef1cb0ebc3a3"
      },
      "source": [
        "a=df.groupby('neighbourhood_group')['room_type'].value_counts().unstack()\n",
        "\n",
        "plt.figure(figsize=(10,7))\n",
        "w=0.2           \n",
        "\n",
        "\n",
        "bar1=np.arange(5)\n",
        "bar2=[w+i for i in bar1]\n",
        "bar3=[w+i for i in bar2]\n",
        "plt.bar(bar1,list(a['Entire home/apt']),w,label='Entire home/apt')\n",
        "plt.bar(bar2,list(a['Private room']),w,label='Private room')\n",
        "plt.bar(bar3,list(a['Shared room']),w,label='Shared room')\n",
        "              \n",
        "plt.xlabel('neighbourhood_group',size=15)\n",
        "plt.ylabel('count of properties',size=15)\n",
        "plt.title('',size=20)\n",
        "plt.xticks(bar1+2*w/2,a.index)\n",
        "plt.legend()\n",
        "              \n",
        "plt.show()\n",
        "                     \n",
        "\n"
      ],
      "execution_count": 43,
      "outputs": [
        {
          "output_type": "display_data",
          "data": {
            "image/png": "[encoded data removed]",
            "text/plain": [
              "<Figure size 720x504 with 1 Axes>"
            ]
          },
          "metadata": {
            "tags": [],
            "needs_background": "light"
          }
        }
      ]
    },
    {
      "cell_type": "markdown",
      "metadata": {
        "id": "58o-7gIpdD_0"
      },
      "source": [
        "**From above plot we can conclude that Manhatan and Brooklyn have high  count of entire home/apt this may be because of bussiness meating or peoples are travling with theire family so host are giving entitehome/apt facilities.Thre are very less number of sheared rooms avilable in each neighbourhood groups**"
      ]
    },
    {
      "cell_type": "markdown",
      "metadata": {
        "id": "NsRIEn9fc2Nn"
      },
      "source": [
        "# Mean price for each type of room across different neighbourhood groups"
      ]
    },
    {
      "cell_type": "code",
      "metadata": {
        "colab": {
          "base_uri": "https://localhost:8080/",
          "height": 532
        },
        "id": "x50sPpdjTimf",
        "outputId": "c42b5297-17b7-4cb3-8d49-0199d112bc45"
      },
      "source": [
        "a=df.groupby(['neighbourhood_group','room_type'])['price'].mean().unstack()\n",
        "\n",
        "plt.figure(figsize=(10,7))\n",
        "w=0.2           \n",
        "\n",
        "\n",
        "bar1=np.arange(5)\n",
        "bar2=[w+i for i in bar1]\n",
        "bar3=[w+i for i in bar2]\n",
        "plt.bar(bar1,list(a['Entire home/apt']),w,label='Entire home/apt')\n",
        "plt.bar(bar2,list(a['Private room']),w,label='Private room')\n",
        "plt.bar(bar3,list(a['Shared room']),w,label='Shared room')\n",
        "              \n",
        "plt.xlabel('neighbourhood_group',size=10)\n",
        "plt.ylabel('price of listing',size=10)\n",
        "plt.title('',size=20)\n",
        "plt.xticks(bar1+2*w/2,a.index,rotation=90,fontsize=15)\n",
        "plt.legend()\n",
        "              \n",
        "plt.show()\n",
        "##following graph shows which room type has more price in specific neighbourhood groups.\n",
        "              \n"
      ],
      "execution_count": 44,
      "outputs": [
        {
          "output_type": "display_data",
          "data": {
            "image/png": "[encoded data removed]",
            "text/plain": [
              "<Figure size 720x504 with 1 Axes>"
            ]
          },
          "metadata": {
            "tags": [],
            "needs_background": "light"
          }
        }
      ]
    },
    {
      "cell_type": "markdown",
      "metadata": {
        "id": "Q0vDH1BsT7EL"
      },
      "source": [
        "**From above plot we can conclude that average price for entire home/apt is higher in all neighbourhood groups which is obivous. Average price of sheared rooms and private room somewhat look similar in Bronx,Queens,Staten Island.**"
      ]
    },
    {
      "cell_type": "markdown",
      "metadata": {
        "id": "qYm9pkqRdY6a"
      },
      "source": [
        "# We can Look into each Nieghbourhood Groups seperately to look deeper into subset Neighbours"
      ]
    },
    {
      "cell_type": "code",
      "metadata": {
        "id": "6FyvIW0ddXOS"
      },
      "source": [
        "def neighbourhood_group_subset(n):\n",
        "  data=df[df['neighbourhood_group']==n]\n",
        "  a=df[df['neighbourhood_group']==n]['neighbourhood'].value_counts().reset_index()\n",
        "  a1=data[data['neighbourhood']==a['index'][0]]\n",
        "  a2=data[data['neighbourhood']==a['index'][1]]\n",
        "  a3=data[data['neighbourhood']==a['index'][2]]\n",
        "  a4=data[data['neighbourhood']==a['index'][3]]\n",
        "  a5=data[data['neighbourhood']==a['index'][4]]\n",
        "  result=pd.concat([a1,a2,a3,a4,a5])\n",
        "  return result\n",
        "\n",
        "# we can use this function to make a subset of dataframe based on different neighbourhood groups\n",
        "def room(room_types,neighbourhood_groups):\n",
        "  a=neighbourhood_group_subset(neighbourhood_groups)\n",
        "  return a[a['room_type']==room_types]\n",
        "\n",
        "## this function can be used to slice the dataframe based on room type and neighbourhood group\n",
        "\n",
        "\n",
        "\n",
        "\n",
        "## now we can add a one time function to plot the graph when we want to do neighboir hoood wise analysis\n",
        "\n",
        "\n",
        "def plots(aa,var):       \n",
        "          w = 0.20\n",
        "          #plt.figsize(figure=(20,10))\n",
        "          plt.figure(figsize=(10,7))\n",
        "          \n",
        "\n",
        "\n",
        "          bar1=np.arange(aa['neighbourhood'].shape[0])\n",
        "          bar2=[w+i for i in bar1]\n",
        "          bar3=[w+i for i in bar2]\n",
        "          plt.bar(bar1,aa[var+'1'],w,label='private_room')\n",
        "          plt.bar(bar2,aa[var+'2'],w,label=\"entire_room\")\n",
        "          plt.bar(bar3,aa[var +'3'],w,label=\"sheared_room\")\n",
        "\n",
        "          plt.xlabel('neighbourhood',size=10)\n",
        "          plt.ylabel(var,size=10)\n",
        "          plt.title('variation of  ' + var+'   wrt neighbourhood',size=20)\n",
        "          plt.xticks(bar1+2*w/2,aa['neighbourhood'],fontsize=10)\n",
        "          plt.legend()\n",
        "          #plt.xticks(rotation=90)\n",
        "          plt.show()\n",
        "          #ptl.xticks(bar1+w/2,df['month_number'])\n",
        "\n"
      ],
      "execution_count": 45,
      "outputs": []
    },
    {
      "cell_type": "markdown",
      "metadata": {
        "id": "Xe4f3691o3Kn"
      },
      "source": [
        "1.Brokeyan"
      ]
    },
    {
      "cell_type": "code",
      "metadata": {
        "id": "oClsfZ8ChS3C"
      },
      "source": [
        "\n",
        "private_room_df=room('Private room','Brooklyn')\n",
        "entire_home_df=room('Entire home/apt','Brooklyn')\n",
        "shared_room_df=room('Shared room','Brooklyn')"
      ],
      "execution_count": 46,
      "outputs": []
    },
    {
      "cell_type": "code",
      "metadata": {
        "id": "s1RJCo6yEfKy",
        "colab": {
          "base_uri": "https://localhost:8080/",
          "height": 195
        },
        "outputId": "9acbd955-023a-4e81-c320-c0f4aa317129"
      },
      "source": [
        "a=private_room_df.groupby('neighbourhood')['price'].mean().reset_index().rename({'price': 'price1'}, axis=1)\n",
        "b=entire_home_df.groupby('neighbourhood')['price'].mean().reset_index().rename({'price': 'price2'}, axis=1)\n",
        "c=shared_room_df.groupby('neighbourhood')['price'].mean().reset_index().rename({'price': 'price3'}, axis=1)\n",
        "\n",
        "\n",
        "####looking for specific neighbourhood in Broklyn ,in each room type \n",
        "# for example in a we will have Dataframe which give us the mean price in each neighbourhood group in brooklyn for private room type.\n",
        "a.head()"
      ],
      "execution_count": 47,
      "outputs": [
        {
          "output_type": "execute_result",
          "data": {
            "text/html": [
              "<div>\n",
              "<style scoped>\n",
              "    .dataframe tbody tr th:only-of-type {\n",
              "        vertical-align: middle;\n",
              "    }\n",
              "\n",
              "    .dataframe tbody tr th {\n",
              "        vertical-align: top;\n",
              "    }\n",
              "\n",
              "    .dataframe thead th {\n",
              "        text-align: right;\n",
              "    }\n",
              "</style>\n",
              "<table border=\"1\" class=\"dataframe\">\n",
              "  <thead>\n",
              "    <tr style=\"text-align: right;\">\n",
              "      <th></th>\n",
              "      <th>neighbourhood</th>\n",
              "      <th>price1</th>\n",
              "    </tr>\n",
              "  </thead>\n",
              "  <tbody>\n",
              "    <tr>\n",
              "      <th>0</th>\n",
              "      <td>Bedford-Stuyvesant</td>\n",
              "      <td>73.296860</td>\n",
              "    </tr>\n",
              "    <tr>\n",
              "      <th>1</th>\n",
              "      <td>Bushwick</td>\n",
              "      <td>62.623037</td>\n",
              "    </tr>\n",
              "    <tr>\n",
              "      <th>2</th>\n",
              "      <td>Crown Heights</td>\n",
              "      <td>68.573077</td>\n",
              "    </tr>\n",
              "    <tr>\n",
              "      <th>3</th>\n",
              "      <td>Greenpoint</td>\n",
              "      <td>88.462185</td>\n",
              "    </tr>\n",
              "    <tr>\n",
              "      <th>4</th>\n",
              "      <td>Williamsburg</td>\n",
              "      <td>85.761142</td>\n",
              "    </tr>\n",
              "  </tbody>\n",
              "</table>\n",
              "</div>"
            ],
            "text/plain": [
              "        neighbourhood     price1\n",
              "0  Bedford-Stuyvesant  73.296860\n",
              "1            Bushwick  62.623037\n",
              "2       Crown Heights  68.573077\n",
              "3          Greenpoint  88.462185\n",
              "4        Williamsburg  85.761142"
            ]
          },
          "metadata": {
            "tags": []
          },
          "execution_count": 47
        }
      ]
    },
    {
      "cell_type": "code",
      "metadata": {
        "colab": {
          "base_uri": "https://localhost:8080/",
          "height": 463
        },
        "id": "DU262WBKVFmC",
        "outputId": "19728af8-369a-4ab7-9d25-a693c6a24a01"
      },
      "source": [
        "\n",
        "final=pd.concat([a.set_index('neighbourhood'),b.set_index('neighbourhood'),c.set_index('neighbourhood')], axis=1, join='outer').reset_index().fillna(0).rename({'index':'neighbourhood'},axis=1)\n",
        "#final=pd.merge(c,final,on='neighbourhood')\n",
        "plots(final,var='price')\n"
      ],
      "execution_count": 48,
      "outputs": [
        {
          "output_type": "display_data",
          "data": {
            "image/png": "[encoded data removed]",
            "text/plain": [
              "<Figure size 720x504 with 1 Axes>"
            ]
          },
          "metadata": {
            "tags": [],
            "needs_background": "light"
          }
        }
      ]
    },
    {
      "cell_type": "markdown",
      "metadata": {
        "id": "fyImtD7G7fev"
      },
      "source": [
        "**From above plot we can conclude that for each room type Williamsburg have highest average price.For each room type price is varying accordinng to neighbourhood.These may be because of servise or neighbourhood .**"
      ]
    },
    {
      "cell_type": "code",
      "metadata": {
        "id": "w4p-d6QRX2jm"
      },
      "source": [
        "a=private_room_df.groupby('neighbourhood')['number_of_reviews'].mean().reset_index().rename({'number_of_reviews': 'number_of_reviews1'}, axis=1)\n",
        "b=entire_home_df.groupby('neighbourhood')['number_of_reviews'].mean().reset_index().rename({'number_of_reviews': 'number_of_reviews2'}, axis=1)\n",
        "c=shared_room_df.groupby('neighbourhood')['number_of_reviews'].mean().reset_index().rename({'number_of_reviews': 'number_of_reviews3'}, axis=1)"
      ],
      "execution_count": 49,
      "outputs": []
    },
    {
      "cell_type": "code",
      "metadata": {
        "colab": {
          "base_uri": "https://localhost:8080/",
          "height": 463
        },
        "id": "Fnn2yzACY7mL",
        "outputId": "26ed823f-2f41-49c8-d465-4c87c9d403a5"
      },
      "source": [
        "\n",
        "final=pd.concat([a.set_index('neighbourhood'),b.set_index('neighbourhood'),c.set_index('neighbourhood')], axis=1, join='outer').reset_index().fillna(0).rename({'index':'neighbourhood'},axis=1)\n",
        "#final=pd.merge(c,final,on='neighbourhood')\n",
        "plots(final,var='number_of_reviews')"
      ],
      "execution_count": 50,
      "outputs": [
        {
          "output_type": "display_data",
          "data": {
            "image/png": "[encoded data removed]",
            "text/plain": [
              "<Figure size 720x504 with 1 Axes>"
            ]
          },
          "metadata": {
            "tags": [],
            "needs_background": "light"
          }
        }
      ]
    },
    {
      "cell_type": "markdown",
      "metadata": {
        "id": "Zc_LnneO9i2O"
      },
      "source": [
        "**From above we can conclude that Most of the reviews are for entire room .Williamberg have highest price for entire room but less reviews compare to others.revesre thing for Bedford Stuyvesant.**"
      ]
    },
    {
      "cell_type": "markdown",
      "metadata": {
        "id": "wN3pPrKceXrO"
      },
      "source": [
        "###2.Manhattan"
      ]
    },
    {
      "cell_type": "code",
      "metadata": {
        "id": "2CD1YOH4nidn"
      },
      "source": [
        "private_room_df=room('Private room','Manhattan')\n",
        "entire_home_df=room('Entire home/apt','Manhattan')\n",
        "shared_room_df=room('Shared room','Manhattan')"
      ],
      "execution_count": 51,
      "outputs": []
    },
    {
      "cell_type": "code",
      "metadata": {
        "id": "u71im59gfbzk"
      },
      "source": [
        "a=private_room_df.groupby('neighbourhood')['price'].mean().reset_index().rename({'price': 'price1'}, axis=1)\n",
        "b=entire_home_df.groupby('neighbourhood')['price'].mean().reset_index().rename({'price': 'price2'}, axis=1)\n",
        "c=shared_room_df.groupby('neighbourhood')['price'].mean().reset_index().rename({'price': 'price3'}, axis=1)"
      ],
      "execution_count": 52,
      "outputs": []
    },
    {
      "cell_type": "code",
      "metadata": {
        "colab": {
          "base_uri": "https://localhost:8080/",
          "height": 463
        },
        "id": "OEjnl8uxfhYD",
        "outputId": "df516a24-6b54-4a11-888e-8e5d7d69e161"
      },
      "source": [
        "\n",
        "final=pd.concat([a.set_index('neighbourhood'),b.set_index('neighbourhood'),c.set_index('neighbourhood')], axis=1, join='outer').reset_index().fillna(0).rename({'index':'neighbourhood'},axis=1)\n",
        "#final=pd.merge(c,final,on='neighbourhood')\n",
        "plots(final,var='price')\n"
      ],
      "execution_count": 53,
      "outputs": [
        {
          "output_type": "display_data",
          "data": {
            "image/png": "[encoded data removed]",
            "text/plain": [
              "<Figure size 720x504 with 1 Axes>"
            ]
          },
          "metadata": {
            "tags": [],
            "needs_background": "light"
          }
        }
      ]
    },
    {
      "cell_type": "markdown",
      "metadata": {
        "id": "Mh5OFFSgCiTr"
      },
      "source": [
        "**Private room price is high in all neighbourhoods.Hell's Kitchen Harlem have highest and lowest price respectivaly for all rrom type .**"
      ]
    },
    {
      "cell_type": "code",
      "metadata": {
        "id": "bSJGu0koe9I_"
      },
      "source": [
        "a=private_room_df.groupby('neighbourhood')['number_of_reviews'].mean().reset_index().rename({'number_of_reviews': 'number_of_reviews1'}, axis=1)\n",
        "b=entire_home_df.groupby('neighbourhood')['number_of_reviews'].mean().reset_index().rename({'number_of_reviews': 'number_of_reviews2'}, axis=1)\n",
        "c=shared_room_df.groupby('neighbourhood')['number_of_reviews'].mean().reset_index().rename({'number_of_reviews': 'number_of_reviews3'}, axis=1)"
      ],
      "execution_count": 54,
      "outputs": []
    },
    {
      "cell_type": "code",
      "metadata": {
        "colab": {
          "base_uri": "https://localhost:8080/",
          "height": 463
        },
        "id": "BYlV1jIhfW8i",
        "outputId": "824eb900-7627-453e-9d83-e6ccb4787985"
      },
      "source": [
        "\n",
        "final=pd.concat([a.set_index('neighbourhood'),b.set_index('neighbourhood'),c.set_index('neighbourhood')], axis=1, join='outer').reset_index().fillna(0).rename({'index':'neighbourhood'},axis=1)\n",
        "#final=pd.merge(c,final,on='neighbourhood')\n",
        "plots(final,var='number_of_reviews')"
      ],
      "execution_count": 55,
      "outputs": [
        {
          "output_type": "display_data",
          "data": {
            "image/png": "[encoded data removed]",
            "text/plain": [
              "<Figure size 720x504 with 1 Axes>"
            ]
          },
          "metadata": {
            "tags": [],
            "needs_background": "light"
          }
        }
      ]
    },
    {
      "cell_type": "markdown",
      "metadata": {
        "id": "8C-a7jywGWwP"
      },
      "source": [
        "**From above plot and price plot it look's like where price is high review for that room type is low**"
      ]
    },
    {
      "cell_type": "markdown",
      "metadata": {
        "id": "lOFMRVJjjLMc"
      },
      "source": [
        "###Queens"
      ]
    },
    {
      "cell_type": "code",
      "metadata": {
        "id": "uA5ZDJ3ezGHY"
      },
      "source": [
        "private_room_df=room('Private room','Queens')\n",
        "entire_home_df=room('Entire home/apt','Queens')\n",
        "shared_room_df=room('Shared room','Queens')"
      ],
      "execution_count": 56,
      "outputs": []
    },
    {
      "cell_type": "code",
      "metadata": {
        "id": "JdF0rnwmjKVq"
      },
      "source": [
        ""
      ],
      "execution_count": 56,
      "outputs": []
    },
    {
      "cell_type": "code",
      "metadata": {
        "id": "-UTZgiYwyW_c"
      },
      "source": [
        "a=private_room_df.groupby('neighbourhood')['price'].mean().reset_index().rename({'price': 'price1'}, axis=1)\n",
        "b=entire_home_df.groupby('neighbourhood')['price'].mean().reset_index().rename({'price': 'price2'}, axis=1)\n",
        "c=shared_room_df.groupby('neighbourhood')['price'].mean().reset_index().rename({'price': 'price3'}, axis=1)"
      ],
      "execution_count": 57,
      "outputs": []
    },
    {
      "cell_type": "code",
      "metadata": {
        "colab": {
          "base_uri": "https://localhost:8080/",
          "height": 463
        },
        "id": "pFMCZWUqy59I",
        "outputId": "a1a927e3-89ee-4cb4-c8c4-244748cc6422"
      },
      "source": [
        "\n",
        "final=pd.concat([a.set_index('neighbourhood'),b.set_index('neighbourhood'),c.set_index('neighbourhood')], axis=1, join='outer').reset_index().fillna(0).rename({'index':'neighbourhood'},axis=1)\n",
        "#final=pd.merge(c,final,on='neighbourhood')\n",
        "plots(final,var='price')"
      ],
      "execution_count": 58,
      "outputs": [
        {
          "output_type": "display_data",
          "data": {
            "image/png": "[encoded data removed]",
            "text/plain": [
              "<Figure size 720x504 with 1 Axes>"
            ]
          },
          "metadata": {
            "tags": [],
            "needs_background": "light"
          }
        }
      ]
    },
    {
      "cell_type": "markdown",
      "metadata": {
        "id": "HV3qOx1ZHNqB"
      },
      "source": [
        "**Maximum price is quite less compare to Manhatan and Brooklyen.In Astoria ,Flushing,Long Island City price for sheared room is high compare to others this may be due to service.**"
      ]
    },
    {
      "cell_type": "code",
      "metadata": {
        "id": "iVI66u-RjwaT"
      },
      "source": [
        "a=private_room_df.groupby('neighbourhood')['number_of_reviews'].mean().reset_index().rename({'number_of_reviews': 'number_of_reviews1'}, axis=1)\n",
        "b=entire_home_df.groupby('neighbourhood')['number_of_reviews'].mean().reset_index().rename({'number_of_reviews': 'number_of_reviews2'}, axis=1)\n",
        "c=shared_room_df.groupby('neighbourhood')['number_of_reviews'].mean().reset_index().rename({'number_of_reviews': 'number_of_reviews3'}, axis=1)"
      ],
      "execution_count": 59,
      "outputs": []
    },
    {
      "cell_type": "code",
      "metadata": {
        "colab": {
          "base_uri": "https://localhost:8080/",
          "height": 463
        },
        "id": "020NHgYyjz7z",
        "outputId": "084cf738-c12c-4024-8763-620c2094499b"
      },
      "source": [
        "final=pd.concat([a.set_index('neighbourhood'),b.set_index('neighbourhood'),c.set_index('neighbourhood')], axis=1, join='outer').reset_index().fillna(0).rename({'index':'neighbourhood'},axis=1)\n",
        "#final=pd.merge(c,final,on='neighbourhood')\n",
        "plots(final,var='number_of_reviews')"
      ],
      "execution_count": 60,
      "outputs": [
        {
          "output_type": "display_data",
          "data": {
            "image/png": "[encoded data removed]",
            "text/plain": [
              "<Figure size 720x504 with 1 Axes>"
            ]
          },
          "metadata": {
            "tags": [],
            "needs_background": "light"
          }
        }
      ]
    },
    {
      "cell_type": "markdown",
      "metadata": {
        "id": "BM1XCyMvIiEE"
      },
      "source": [
        "**Reviews for entire room are look good because price is quite less compare to Manhatan and Brookelyn**"
      ]
    },
    {
      "cell_type": "markdown",
      "metadata": {
        "id": "CgeZngBIj8cM"
      },
      "source": [
        "###Staten Island"
      ]
    },
    {
      "cell_type": "code",
      "metadata": {
        "id": "VZKgr4rQ0Et4"
      },
      "source": [
        "\n",
        "private_room_df=room('Private room','Staten Island')\n",
        "entire_home_df=room('Entire home/apt','Staten Island')\n",
        "shared_room_df=room('Shared room','Staten Island')"
      ],
      "execution_count": 61,
      "outputs": []
    },
    {
      "cell_type": "code",
      "metadata": {
        "id": "i_3KvC3k0gOb"
      },
      "source": [
        "a=private_room_df.groupby('neighbourhood')['price'].mean().reset_index().rename({'price': 'price1'}, axis=1)\n",
        "b=entire_home_df.groupby('neighbourhood')['price'].mean().reset_index().rename({'price': 'price2'}, axis=1)\n",
        "c=shared_room_df.groupby('neighbourhood')['price'].mean().reset_index().rename({'price': 'price3'}, axis=1)"
      ],
      "execution_count": 62,
      "outputs": []
    },
    {
      "cell_type": "code",
      "metadata": {
        "id": "pyakI2yb0-FT",
        "colab": {
          "base_uri": "https://localhost:8080/",
          "height": 463
        },
        "outputId": "22d04bd5-0346-45e2-e10f-d92d66e5ade2"
      },
      "source": [
        "final=pd.concat([a.set_index('neighbourhood'),b.set_index('neighbourhood'),c.set_index('neighbourhood')], axis=1, join='outer').reset_index().fillna(0).rename({'index':'neighbourhood'},axis=1)\n",
        "#final=pd.merge(c,final,on='neighbourhood')\n",
        "plots(final,var='price')"
      ],
      "execution_count": 63,
      "outputs": [
        {
          "output_type": "display_data",
          "data": {
            "image/png": "[encoded data removed]",
            "text/plain": [
              "<Figure size 720x504 with 1 Axes>"
            ]
          },
          "metadata": {
            "tags": [],
            "needs_background": "light"
          }
        }
      ]
    },
    {
      "cell_type": "markdown",
      "metadata": {
        "id": "vbcIhAgyLODq"
      },
      "source": [
        "**In Staten Island price for private rooms looks very less for all neighbourhood.Shear rooms are not available in most of the neighbourhhod.**"
      ]
    },
    {
      "cell_type": "code",
      "metadata": {
        "id": "ES0BpoIakekt"
      },
      "source": [
        "a=private_room_df.groupby('neighbourhood')['number_of_reviews'].mean().reset_index().rename({'number_of_reviews': 'number_of_reviews1'}, axis=1)\n",
        "b=entire_home_df.groupby('neighbourhood')['number_of_reviews'].mean().reset_index().rename({'number_of_reviews': 'number_of_reviews2'}, axis=1)\n",
        "c=shared_room_df.groupby('neighbourhood')['number_of_reviews'].mean().reset_index().rename({'number_of_reviews': 'number_of_reviews3'}, axis=1)"
      ],
      "execution_count": 64,
      "outputs": []
    },
    {
      "cell_type": "code",
      "metadata": {
        "colab": {
          "base_uri": "https://localhost:8080/",
          "height": 463
        },
        "id": "lWVgZia1kifw",
        "outputId": "ea5a4200-2433-451c-8a59-4025df39bf56"
      },
      "source": [
        "final=pd.concat([a.set_index('neighbourhood'),b.set_index('neighbourhood'),c.set_index('neighbourhood')], axis=1, join='outer').reset_index().fillna(0).rename({'index':'neighbourhood'},axis=1)\n",
        "#final=pd.merge(c,final,on='neighbourhood')\n",
        "plots(final,var='number_of_reviews')"
      ],
      "execution_count": 65,
      "outputs": [
        {
          "output_type": "display_data",
          "data": {
            "image/png": "[encoded data removed]",
            "text/plain": [
              "<Figure size 720x504 with 1 Axes>"
            ]
          },
          "metadata": {
            "tags": [],
            "needs_background": "light"
          }
        }
      ]
    },
    {
      "cell_type": "markdown",
      "metadata": {
        "id": "kwTyFGOoMU1o"
      },
      "source": [
        "**Tompkinsville has highest number of reviews looks like  this is becacse of price.**"
      ]
    },
    {
      "cell_type": "markdown",
      "metadata": {
        "id": "BHc-CFzilHUZ"
      },
      "source": [
        "###Bronx"
      ]
    },
    {
      "cell_type": "code",
      "metadata": {
        "id": "vpYnnCic1h6V"
      },
      "source": [
        "\n",
        "private_room_df=room('Private room','Bronx')\n",
        "entire_home_df=room('Entire home/apt','Bronx')\n",
        "shared_room_df=room('Shared room','Bronx')"
      ],
      "execution_count": 66,
      "outputs": []
    },
    {
      "cell_type": "code",
      "metadata": {
        "id": "OOiBBB651S4N"
      },
      "source": [
        "a=private_room_df.groupby('neighbourhood')['price'].mean().reset_index().rename({'price': 'price1'}, axis=1)\n",
        "b=entire_home_df.groupby('neighbourhood')['price'].mean().reset_index().rename({'price': 'price2'}, axis=1)\n",
        "c=shared_room_df.groupby('neighbourhood')['price'].mean().reset_index().rename({'price': 'price3'}, axis=1)"
      ],
      "execution_count": 67,
      "outputs": []
    },
    {
      "cell_type": "code",
      "metadata": {
        "colab": {
          "base_uri": "https://localhost:8080/",
          "height": 463
        },
        "id": "k-0_vB-Q1X_S",
        "outputId": "59917020-b101-4a94-aafa-358d18eeda6b"
      },
      "source": [
        "final=pd.concat([a.set_index('neighbourhood'),b.set_index('neighbourhood'),c.set_index('neighbourhood')], axis=1, join='outer').reset_index().fillna(0).rename({'index':'neighbourhood'},axis=1)\n",
        "#final=pd.merge(c,final,on='neighbourhood')\n",
        "plots(final,var='price')"
      ],
      "execution_count": 68,
      "outputs": [
        {
          "output_type": "display_data",
          "data": {
            "image/png": "[encoded data removed]",
            "text/plain": [
              "<Figure size 720x504 with 1 Axes>"
            ]
          },
          "metadata": {
            "tags": [],
            "needs_background": "light"
          }
        }
      ]
    },
    {
      "cell_type": "markdown",
      "metadata": {
        "id": "GzGodsTmM-EQ"
      },
      "source": [
        "**average Maximum price for entire room is very less compare to others neighbourshood group.**"
      ]
    },
    {
      "cell_type": "code",
      "metadata": {
        "id": "BhRdeFI4lifA"
      },
      "source": [
        "a=private_room_df.groupby('neighbourhood')['number_of_reviews'].mean().reset_index().rename({'number_of_reviews': 'number_of_reviews1'}, axis=1)\n",
        "b=entire_home_df.groupby('neighbourhood')['number_of_reviews'].mean().reset_index().rename({'number_of_reviews': 'number_of_reviews2'}, axis=1)\n",
        "c=shared_room_df.groupby('neighbourhood')['number_of_reviews'].mean().reset_index().rename({'number_of_reviews': 'number_of_reviews3'}, axis=1)"
      ],
      "execution_count": 69,
      "outputs": []
    },
    {
      "cell_type": "code",
      "metadata": {
        "colab": {
          "base_uri": "https://localhost:8080/",
          "height": 463
        },
        "id": "4cdR0gxGll70",
        "outputId": "e73be5b0-07b9-4642-e791-8512008fb7b0"
      },
      "source": [
        "final=pd.concat([a.set_index('neighbourhood'),b.set_index('neighbourhood'),c.set_index('neighbourhood')], axis=1, join='outer').reset_index().fillna(0).rename({'index':'neighbourhood'},axis=1)\n",
        "#final=pd.merge(c,final,on='neighbourhood')\n",
        "plots(final,var='number_of_reviews')"
      ],
      "execution_count": 70,
      "outputs": [
        {
          "output_type": "display_data",
          "data": {
            "image/png": "[encoded data removed]",
            "text/plain": [
              "<Figure size 720x504 with 1 Axes>"
            ]
          },
          "metadata": {
            "tags": [],
            "needs_background": "light"
          }
        }
      ]
    },
    {
      "cell_type": "markdown",
      "metadata": {
        "id": "aBC-pek_NdwD"
      },
      "source": [
        "**Almost all rewies for entire home and private room, becaues of low price people are prefering entire home and private room.**"
      ]
    },
    {
      "cell_type": "markdown",
      "metadata": {
        "id": "QqS7FS8irMxd"
      },
      "source": [
        "###Count of properties availabel in different price range in  each neighboorhood"
      ]
    },
    {
      "cell_type": "code",
      "metadata": {
        "id": "wPgQ6VfyfEfc"
      },
      "source": [
        "bins=[0,80,200,10000]"
      ],
      "execution_count": 71,
      "outputs": []
    },
    {
      "cell_type": "code",
      "metadata": {
        "colab": {
          "base_uri": "https://localhost:8080/",
          "height": 491
        },
        "id": "7l1vNuZbbw2p",
        "outputId": "b4ef9e72-bf3a-4e8c-c671-7fcb6ad8bd3c"
      },
      "source": [
        "count_df=df.groupby(['neighbourhood_group',pd.cut(df.price,bins)])['room_type'].value_counts().unstack().fillna(0).reset_index()\n",
        "count_df"
      ],
      "execution_count": 72,
      "outputs": [
        {
          "output_type": "execute_result",
          "data": {
            "text/html": [
              "<div>\n",
              "<style scoped>\n",
              "    .dataframe tbody tr th:only-of-type {\n",
              "        vertical-align: middle;\n",
              "    }\n",
              "\n",
              "    .dataframe tbody tr th {\n",
              "        vertical-align: top;\n",
              "    }\n",
              "\n",
              "    .dataframe thead th {\n",
              "        text-align: right;\n",
              "    }\n",
              "</style>\n",
              "<table border=\"1\" class=\"dataframe\">\n",
              "  <thead>\n",
              "    <tr style=\"text-align: right;\">\n",
              "      <th>room_type</th>\n",
              "      <th>neighbourhood_group</th>\n",
              "      <th>price</th>\n",
              "      <th>Entire home/apt</th>\n",
              "      <th>Private room</th>\n",
              "      <th>Shared room</th>\n",
              "    </tr>\n",
              "  </thead>\n",
              "  <tbody>\n",
              "    <tr>\n",
              "      <th>0</th>\n",
              "      <td>Bronx</td>\n",
              "      <td>(0, 80]</td>\n",
              "      <td>108.0</td>\n",
              "      <td>567.0</td>\n",
              "      <td>54.0</td>\n",
              "    </tr>\n",
              "    <tr>\n",
              "      <th>1</th>\n",
              "      <td>Bronx</td>\n",
              "      <td>(80, 200]</td>\n",
              "      <td>235.0</td>\n",
              "      <td>76.0</td>\n",
              "      <td>5.0</td>\n",
              "    </tr>\n",
              "    <tr>\n",
              "      <th>2</th>\n",
              "      <td>Bronx</td>\n",
              "      <td>(200, 10000]</td>\n",
              "      <td>36.0</td>\n",
              "      <td>8.0</td>\n",
              "      <td>1.0</td>\n",
              "    </tr>\n",
              "    <tr>\n",
              "      <th>3</th>\n",
              "      <td>Brooklyn</td>\n",
              "      <td>(0, 80]</td>\n",
              "      <td>810.0</td>\n",
              "      <td>7654.0</td>\n",
              "      <td>366.0</td>\n",
              "    </tr>\n",
              "    <tr>\n",
              "      <th>4</th>\n",
              "      <td>Brooklyn</td>\n",
              "      <td>(80, 200]</td>\n",
              "      <td>6845.0</td>\n",
              "      <td>2326.0</td>\n",
              "      <td>39.0</td>\n",
              "    </tr>\n",
              "    <tr>\n",
              "      <th>5</th>\n",
              "      <td>Brooklyn</td>\n",
              "      <td>(200, 10000]</td>\n",
              "      <td>1903.0</td>\n",
              "      <td>146.0</td>\n",
              "      <td>6.0</td>\n",
              "    </tr>\n",
              "    <tr>\n",
              "      <th>6</th>\n",
              "      <td>Manhattan</td>\n",
              "      <td>(0, 80]</td>\n",
              "      <td>338.0</td>\n",
              "      <td>3383.0</td>\n",
              "      <td>342.0</td>\n",
              "    </tr>\n",
              "    <tr>\n",
              "      <th>7</th>\n",
              "      <td>Manhattan</td>\n",
              "      <td>(80, 200]</td>\n",
              "      <td>7466.0</td>\n",
              "      <td>4084.0</td>\n",
              "      <td>110.0</td>\n",
              "    </tr>\n",
              "    <tr>\n",
              "      <th>8</th>\n",
              "      <td>Manhattan</td>\n",
              "      <td>(200, 10000]</td>\n",
              "      <td>5394.0</td>\n",
              "      <td>515.0</td>\n",
              "      <td>28.0</td>\n",
              "    </tr>\n",
              "    <tr>\n",
              "      <th>9</th>\n",
              "      <td>Queens</td>\n",
              "      <td>(0, 80]</td>\n",
              "      <td>354.0</td>\n",
              "      <td>2720.0</td>\n",
              "      <td>177.0</td>\n",
              "    </tr>\n",
              "    <tr>\n",
              "      <th>10</th>\n",
              "      <td>Queens</td>\n",
              "      <td>(80, 200]</td>\n",
              "      <td>1461.0</td>\n",
              "      <td>616.0</td>\n",
              "      <td>16.0</td>\n",
              "    </tr>\n",
              "    <tr>\n",
              "      <th>11</th>\n",
              "      <td>Queens</td>\n",
              "      <td>(200, 10000]</td>\n",
              "      <td>281.0</td>\n",
              "      <td>36.0</td>\n",
              "      <td>5.0</td>\n",
              "    </tr>\n",
              "    <tr>\n",
              "      <th>12</th>\n",
              "      <td>Staten Island</td>\n",
              "      <td>(0, 80]</td>\n",
              "      <td>56.0</td>\n",
              "      <td>151.0</td>\n",
              "      <td>7.0</td>\n",
              "    </tr>\n",
              "    <tr>\n",
              "      <th>13</th>\n",
              "      <td>Staten Island</td>\n",
              "      <td>(80, 200]</td>\n",
              "      <td>97.0</td>\n",
              "      <td>35.0</td>\n",
              "      <td>2.0</td>\n",
              "    </tr>\n",
              "    <tr>\n",
              "      <th>14</th>\n",
              "      <td>Staten Island</td>\n",
              "      <td>(200, 10000]</td>\n",
              "      <td>23.0</td>\n",
              "      <td>2.0</td>\n",
              "      <td>0.0</td>\n",
              "    </tr>\n",
              "  </tbody>\n",
              "</table>\n",
              "</div>"
            ],
            "text/plain": [
              "room_type neighbourhood_group         price  ...  Private room  Shared room\n",
              "0                       Bronx       (0, 80]  ...         567.0         54.0\n",
              "1                       Bronx     (80, 200]  ...          76.0          5.0\n",
              "2                       Bronx  (200, 10000]  ...           8.0          1.0\n",
              "3                    Brooklyn       (0, 80]  ...        7654.0        366.0\n",
              "4                    Brooklyn     (80, 200]  ...        2326.0         39.0\n",
              "5                    Brooklyn  (200, 10000]  ...         146.0          6.0\n",
              "6                   Manhattan       (0, 80]  ...        3383.0        342.0\n",
              "7                   Manhattan     (80, 200]  ...        4084.0        110.0\n",
              "8                   Manhattan  (200, 10000]  ...         515.0         28.0\n",
              "9                      Queens       (0, 80]  ...        2720.0        177.0\n",
              "10                     Queens     (80, 200]  ...         616.0         16.0\n",
              "11                     Queens  (200, 10000]  ...          36.0          5.0\n",
              "12              Staten Island       (0, 80]  ...         151.0          7.0\n",
              "13              Staten Island     (80, 200]  ...          35.0          2.0\n",
              "14              Staten Island  (200, 10000]  ...           2.0          0.0\n",
              "\n",
              "[15 rows x 5 columns]"
            ]
          },
          "metadata": {
            "tags": []
          },
          "execution_count": 72
        }
      ]
    },
    {
      "cell_type": "code",
      "metadata": {
        "id": "rpgz0YzyWG7X"
      },
      "source": [
        "def get_plot(ngh_grp,a=count_df):\n",
        "  \n",
        "            data=a[a['neighbourhood_group']==ngh_grp]\n",
        "            w=0.15\n",
        "            plt.figure(figsize=(10,5))\n",
        "            bar1=np.arange(data['Entire home/apt'].shape[0])\n",
        "            bar2=[w+i for i in bar1]\n",
        "            bar3=[w+i for i in bar2]\n",
        "            plt.bar(bar1,data['Entire home/apt'],w,label='Entire home/apt')\n",
        "            plt.bar(bar2,data['Private room'],w,label='Private room')\n",
        "            plt.bar(bar3,data['Shared room'],w,label='Shared room')\n",
        "                          \n",
        "            plt.xlabel('price',size=10)\n",
        "            plt.ylabel('count',size=10)\n",
        "            plt.title(ngh_grp,size=20)\n",
        "            plt.xticks(bar1+2*w/2,['low price range(0, 80]','Medium pricerange(80, 200]','Expensive above 200'],fontsize=10)\n",
        "            plt.legend()\n",
        "                          \n",
        "            plt.show()\n",
        "                          "
      ],
      "execution_count": 73,
      "outputs": []
    },
    {
      "cell_type": "code",
      "metadata": {
        "colab": {
          "base_uri": "https://localhost:8080/",
          "height": 355
        },
        "id": "kGWLvPbsXfdk",
        "outputId": "b1635924-5ea6-476d-a581-a2c02c8c85ac"
      },
      "source": [
        "get_plot('Bronx')"
      ],
      "execution_count": 74,
      "outputs": [
        {
          "output_type": "display_data",
          "data": {
            "image/png": "[encoded data removed]",
            "text/plain": [
              "<Figure size 720x360 with 1 Axes>"
            ]
          },
          "metadata": {
            "tags": [],
            "needs_background": "light"
          }
        }
      ]
    },
    {
      "cell_type": "code",
      "metadata": {
        "colab": {
          "base_uri": "https://localhost:8080/",
          "height": 355
        },
        "id": "NBM0PVnOYNYs",
        "outputId": "91444ec4-04bb-4be8-81b5-3483b7c8db5c"
      },
      "source": [
        "get_plot('Manhattan')"
      ],
      "execution_count": 75,
      "outputs": [
        {
          "output_type": "display_data",
          "data": {
            "image/png": "[encoded data removed]",
            "text/plain": [
              "<Figure size 720x360 with 1 Axes>"
            ]
          },
          "metadata": {
            "tags": [],
            "needs_background": "light"
          }
        }
      ]
    },
    {
      "cell_type": "code",
      "metadata": {
        "colab": {
          "base_uri": "https://localhost:8080/",
          "height": 355
        },
        "id": "AwEmdHY-YUYR",
        "outputId": "aa9c3e76-a597-45fe-db87-cf95f8c1230e"
      },
      "source": [
        "get_plot('Brooklyn')"
      ],
      "execution_count": 76,
      "outputs": [
        {
          "output_type": "display_data",
          "data": {
            "image/png": "[encoded data removed]",
            "text/plain": [
              "<Figure size 720x360 with 1 Axes>"
            ]
          },
          "metadata": {
            "tags": [],
            "needs_background": "light"
          }
        }
      ]
    },
    {
      "cell_type": "code",
      "metadata": {
        "colab": {
          "base_uri": "https://localhost:8080/",
          "height": 355
        },
        "id": "AkqdiQJZYUJn",
        "outputId": "1e7f3166-eb70-42ce-d02c-8e617c2e0d68"
      },
      "source": [
        "get_plot('Queens')"
      ],
      "execution_count": 77,
      "outputs": [
        {
          "output_type": "display_data",
          "data": {
            "image/png": "[encoded data removed]",
            "text/plain": [
              "<Figure size 720x360 with 1 Axes>"
            ]
          },
          "metadata": {
            "tags": [],
            "needs_background": "light"
          }
        }
      ]
    },
    {
      "cell_type": "code",
      "metadata": {
        "colab": {
          "base_uri": "https://localhost:8080/",
          "height": 355
        },
        "id": "zAMhjEmyYT7W",
        "outputId": "b3ef0158-ac2e-45a8-cb04-3fae9d49931f"
      },
      "source": [
        "get_plot('Staten Island')"
      ],
      "execution_count": 78,
      "outputs": [
        {
          "output_type": "display_data",
          "data": {
            "image/png": "[encoded data removed]",
            "text/plain": [
              "<Figure size 720x360 with 1 Axes>"
            ]
          },
          "metadata": {
            "tags": [],
            "needs_background": "light"
          }
        }
      ]
    },
    {
      "cell_type": "markdown",
      "metadata": {
        "id": "r0HE-IN1PA-P"
      },
      "source": [
        "From all plots we can conclude that less number of "
      ]
    },
    {
      "cell_type": "code",
      "metadata": {
        "colab": {
          "base_uri": "https://localhost:8080/",
          "height": 136
        },
        "id": "XwEHi7wij2IZ",
        "outputId": "c57534b4-5c72-4a80-97d2-b604c0ad3dbe"
      },
      "source": [
        "a=df.groupby([pd.cut(df.price,bins)])['neighbourhood_group'].value_counts().unstack().fillna(0).reset_index()\n",
        "a"
      ],
      "execution_count": 79,
      "outputs": [
        {
          "output_type": "execute_result",
          "data": {
            "text/html": [
              "<div>\n",
              "<style scoped>\n",
              "    .dataframe tbody tr th:only-of-type {\n",
              "        vertical-align: middle;\n",
              "    }\n",
              "\n",
              "    .dataframe tbody tr th {\n",
              "        vertical-align: top;\n",
              "    }\n",
              "\n",
              "    .dataframe thead th {\n",
              "        text-align: right;\n",
              "    }\n",
              "</style>\n",
              "<table border=\"1\" class=\"dataframe\">\n",
              "  <thead>\n",
              "    <tr style=\"text-align: right;\">\n",
              "      <th>neighbourhood_group</th>\n",
              "      <th>price</th>\n",
              "      <th>Bronx</th>\n",
              "      <th>Brooklyn</th>\n",
              "      <th>Manhattan</th>\n",
              "      <th>Queens</th>\n",
              "      <th>Staten Island</th>\n",
              "    </tr>\n",
              "  </thead>\n",
              "  <tbody>\n",
              "    <tr>\n",
              "      <th>0</th>\n",
              "      <td>(0, 80]</td>\n",
              "      <td>729</td>\n",
              "      <td>8830</td>\n",
              "      <td>4063</td>\n",
              "      <td>3251</td>\n",
              "      <td>214</td>\n",
              "    </tr>\n",
              "    <tr>\n",
              "      <th>1</th>\n",
              "      <td>(80, 200]</td>\n",
              "      <td>316</td>\n",
              "      <td>9210</td>\n",
              "      <td>11660</td>\n",
              "      <td>2093</td>\n",
              "      <td>134</td>\n",
              "    </tr>\n",
              "    <tr>\n",
              "      <th>2</th>\n",
              "      <td>(200, 10000]</td>\n",
              "      <td>45</td>\n",
              "      <td>2055</td>\n",
              "      <td>5937</td>\n",
              "      <td>322</td>\n",
              "      <td>25</td>\n",
              "    </tr>\n",
              "  </tbody>\n",
              "</table>\n",
              "</div>"
            ],
            "text/plain": [
              "neighbourhood_group         price  Bronx  ...  Queens  Staten Island\n",
              "0                         (0, 80]    729  ...    3251            214\n",
              "1                       (80, 200]    316  ...    2093            134\n",
              "2                    (200, 10000]     45  ...     322             25\n",
              "\n",
              "[3 rows x 6 columns]"
            ]
          },
          "metadata": {
            "tags": []
          },
          "execution_count": 79
        }
      ]
    },
    {
      "cell_type": "code",
      "metadata": {
        "colab": {
          "base_uri": "https://localhost:8080/",
          "height": 449
        },
        "id": "QFVVkgvjka_4",
        "outputId": "f501bc03-acaf-42ea-d6da-eec3fbcff08d"
      },
      "source": [
        "\n",
        "plt.figure(figsize=(10,7))\n",
        "w=0.10       \n",
        "\n",
        "\n",
        "bar1=np.arange(3)\n",
        "bar2=[w+i for i in bar1]\n",
        "bar3=[w+i for i in bar2]\n",
        "bar4=[w+i for i in bar3]\n",
        "bar5=[w+i for i in bar4]\n",
        "plt.bar(bar1,list(a['Bronx']),w,label='Bronxt')\n",
        "plt.bar(bar2,list(a['Brooklyn']),w,label='Brooklyn')\n",
        "plt.bar(bar3,list(a['Manhattan']),w,label='Manhattan')\n",
        "plt.bar(bar4,list(a['Queens']),w,label='Queens')\n",
        "plt.bar(bar5,list(a['Staten Island']),w,label='Staten Island')\n",
        "              \n",
        "plt.xlabel('price_range',size=15)\n",
        "plt.ylabel('count',size=15)\n",
        "plt.title('',size=20)\n",
        "plt.xticks(bar1+3*w/2,['low price range(0, 80]','Medium pricerange(80, 200]','Expensive above 200'],fontsize=10)\n",
        "plt.legend()\n",
        "              \n",
        "plt.show()"
      ],
      "execution_count": 80,
      "outputs": [
        {
          "output_type": "display_data",
          "data": {
            "image/png": "[encoded data removed]",
            "text/plain": [
              "<Figure size 720x504 with 1 Axes>"
            ]
          },
          "metadata": {
            "tags": [],
            "needs_background": "light"
          }
        }
      ]
    },
    {
      "cell_type": "markdown",
      "metadata": {
        "id": "Uw9FPj7GewcE"
      },
      "source": [
        "#Identify High Demand areas where AIRBNB should increase supply"
      ]
    },
    {
      "cell_type": "code",
      "metadata": {
        "id": "drmh4-PSjRjb",
        "colab": {
          "base_uri": "https://localhost:8080/",
          "height": 639
        },
        "outputId": "971b4283-4b14-4318-a952-3cf7a14e8a00"
      },
      "source": [
        "new_props = df.groupby(['neighbourhood_group','neighbourhood']).agg({'availability_365':'median','host_id':'count'}).reset_index().sort_values(by=['availability_365'])\n",
        "new_props = new_props[new_props['host_id']>=5]\n",
        "new_props.head(20)"
      ],
      "execution_count": 81,
      "outputs": [
        {
          "output_type": "execute_result",
          "data": {
            "text/html": [
              "<div>\n",
              "<style scoped>\n",
              "    .dataframe tbody tr th:only-of-type {\n",
              "        vertical-align: middle;\n",
              "    }\n",
              "\n",
              "    .dataframe tbody tr th {\n",
              "        vertical-align: top;\n",
              "    }\n",
              "\n",
              "    .dataframe thead th {\n",
              "        text-align: right;\n",
              "    }\n",
              "</style>\n",
              "<table border=\"1\" class=\"dataframe\">\n",
              "  <thead>\n",
              "    <tr style=\"text-align: right;\">\n",
              "      <th></th>\n",
              "      <th>neighbourhood_group</th>\n",
              "      <th>neighbourhood</th>\n",
              "      <th>availability_365</th>\n",
              "      <th>host_id</th>\n",
              "    </tr>\n",
              "  </thead>\n",
              "  <tbody>\n",
              "    <tr>\n",
              "      <th>68</th>\n",
              "      <td>Brooklyn</td>\n",
              "      <td>Downtown Brooklyn</td>\n",
              "      <td>0.0</td>\n",
              "      <td>83</td>\n",
              "    </tr>\n",
              "    <tr>\n",
              "      <th>83</th>\n",
              "      <td>Brooklyn</td>\n",
              "      <td>Navy Yard</td>\n",
              "      <td>0.0</td>\n",
              "      <td>14</td>\n",
              "    </tr>\n",
              "    <tr>\n",
              "      <th>119</th>\n",
              "      <td>Manhattan</td>\n",
              "      <td>Stuyvesant Town</td>\n",
              "      <td>0.0</td>\n",
              "      <td>37</td>\n",
              "    </tr>\n",
              "    <tr>\n",
              "      <th>117</th>\n",
              "      <td>Manhattan</td>\n",
              "      <td>Roosevelt Island</td>\n",
              "      <td>0.0</td>\n",
              "      <td>77</td>\n",
              "    </tr>\n",
              "    <tr>\n",
              "      <th>113</th>\n",
              "      <td>Manhattan</td>\n",
              "      <td>Morningside Heights</td>\n",
              "      <td>0.0</td>\n",
              "      <td>346</td>\n",
              "    </tr>\n",
              "    <tr>\n",
              "      <th>88</th>\n",
              "      <td>Brooklyn</td>\n",
              "      <td>Sea Gate</td>\n",
              "      <td>0.0</td>\n",
              "      <td>7</td>\n",
              "    </tr>\n",
              "    <tr>\n",
              "      <th>95</th>\n",
              "      <td>Manhattan</td>\n",
              "      <td>Battery Park City</td>\n",
              "      <td>0.0</td>\n",
              "      <td>70</td>\n",
              "    </tr>\n",
              "    <tr>\n",
              "      <th>116</th>\n",
              "      <td>Manhattan</td>\n",
              "      <td>Nolita</td>\n",
              "      <td>3.0</td>\n",
              "      <td>253</td>\n",
              "    </tr>\n",
              "    <tr>\n",
              "      <th>100</th>\n",
              "      <td>Manhattan</td>\n",
              "      <td>East Village</td>\n",
              "      <td>3.0</td>\n",
              "      <td>1853</td>\n",
              "    </tr>\n",
              "    <tr>\n",
              "      <th>93</th>\n",
              "      <td>Brooklyn</td>\n",
              "      <td>Williamsburg</td>\n",
              "      <td>3.5</td>\n",
              "      <td>3920</td>\n",
              "    </tr>\n",
              "    <tr>\n",
              "      <th>60</th>\n",
              "      <td>Brooklyn</td>\n",
              "      <td>Carroll Gardens</td>\n",
              "      <td>4.0</td>\n",
              "      <td>233</td>\n",
              "    </tr>\n",
              "    <tr>\n",
              "      <th>78</th>\n",
              "      <td>Brooklyn</td>\n",
              "      <td>Greenpoint</td>\n",
              "      <td>4.0</td>\n",
              "      <td>1115</td>\n",
              "    </tr>\n",
              "    <tr>\n",
              "      <th>56</th>\n",
              "      <td>Brooklyn</td>\n",
              "      <td>Brooklyn Heights</td>\n",
              "      <td>4.5</td>\n",
              "      <td>154</td>\n",
              "    </tr>\n",
              "    <tr>\n",
              "      <th>85</th>\n",
              "      <td>Brooklyn</td>\n",
              "      <td>Prospect Heights</td>\n",
              "      <td>5.0</td>\n",
              "      <td>357</td>\n",
              "    </tr>\n",
              "    <tr>\n",
              "      <th>53</th>\n",
              "      <td>Brooklyn</td>\n",
              "      <td>Boerum Hill</td>\n",
              "      <td>6.0</td>\n",
              "      <td>177</td>\n",
              "    </tr>\n",
              "    <tr>\n",
              "      <th>62</th>\n",
              "      <td>Brooklyn</td>\n",
              "      <td>Cobble Hill</td>\n",
              "      <td>6.0</td>\n",
              "      <td>99</td>\n",
              "    </tr>\n",
              "    <tr>\n",
              "      <th>126</th>\n",
              "      <td>Manhattan</td>\n",
              "      <td>West Village</td>\n",
              "      <td>6.0</td>\n",
              "      <td>768</td>\n",
              "    </tr>\n",
              "    <tr>\n",
              "      <th>104</th>\n",
              "      <td>Manhattan</td>\n",
              "      <td>Greenwich Village</td>\n",
              "      <td>7.0</td>\n",
              "      <td>392</td>\n",
              "    </tr>\n",
              "    <tr>\n",
              "      <th>98</th>\n",
              "      <td>Manhattan</td>\n",
              "      <td>Civic Center</td>\n",
              "      <td>7.5</td>\n",
              "      <td>52</td>\n",
              "    </tr>\n",
              "    <tr>\n",
              "      <th>124</th>\n",
              "      <td>Manhattan</td>\n",
              "      <td>Upper West Side</td>\n",
              "      <td>10.0</td>\n",
              "      <td>1971</td>\n",
              "    </tr>\n",
              "  </tbody>\n",
              "</table>\n",
              "</div>"
            ],
            "text/plain": [
              "    neighbourhood_group        neighbourhood  availability_365  host_id\n",
              "68             Brooklyn    Downtown Brooklyn               0.0       83\n",
              "83             Brooklyn            Navy Yard               0.0       14\n",
              "119           Manhattan      Stuyvesant Town               0.0       37\n",
              "117           Manhattan     Roosevelt Island               0.0       77\n",
              "113           Manhattan  Morningside Heights               0.0      346\n",
              "88             Brooklyn             Sea Gate               0.0        7\n",
              "95            Manhattan    Battery Park City               0.0       70\n",
              "116           Manhattan               Nolita               3.0      253\n",
              "100           Manhattan         East Village               3.0     1853\n",
              "93             Brooklyn         Williamsburg               3.5     3920\n",
              "60             Brooklyn      Carroll Gardens               4.0      233\n",
              "78             Brooklyn           Greenpoint               4.0     1115\n",
              "56             Brooklyn     Brooklyn Heights               4.5      154\n",
              "85             Brooklyn     Prospect Heights               5.0      357\n",
              "53             Brooklyn          Boerum Hill               6.0      177\n",
              "62             Brooklyn          Cobble Hill               6.0       99\n",
              "126           Manhattan         West Village               6.0      768\n",
              "104           Manhattan    Greenwich Village               7.0      392\n",
              "98            Manhattan         Civic Center               7.5       52\n",
              "124           Manhattan      Upper West Side              10.0     1971"
            ]
          },
          "metadata": {
            "tags": []
          },
          "execution_count": 81
        }
      ]
    },
    {
      "cell_type": "code",
      "metadata": {
        "colab": {
          "base_uri": "https://localhost:8080/",
          "height": 639
        },
        "id": "pQ6JypE2eTC-",
        "outputId": "23514d67-93c0-499f-adb6-3db9e9bc2c02"
      },
      "source": [
        "#df = df[df['availability_365'] > 100]\n",
        "new_props = df.groupby(['neighbourhood_group','neighbourhood','room_type']).agg({'availability_365':'median','host_id':'count','price':'median'}).reset_index().sort_values(by=['availability_365'])\n",
        "new_props = new_props[new_props['host_id']>=5]\n",
        "new_props.head(20)"
      ],
      "execution_count": 82,
      "outputs": [
        {
          "output_type": "execute_result",
          "data": {
            "text/html": [
              "<div>\n",
              "<style scoped>\n",
              "    .dataframe tbody tr th:only-of-type {\n",
              "        vertical-align: middle;\n",
              "    }\n",
              "\n",
              "    .dataframe tbody tr th {\n",
              "        vertical-align: top;\n",
              "    }\n",
              "\n",
              "    .dataframe thead th {\n",
              "        text-align: right;\n",
              "    }\n",
              "</style>\n",
              "<table border=\"1\" class=\"dataframe\">\n",
              "  <thead>\n",
              "    <tr style=\"text-align: right;\">\n",
              "      <th></th>\n",
              "      <th>neighbourhood_group</th>\n",
              "      <th>neighbourhood</th>\n",
              "      <th>room_type</th>\n",
              "      <th>availability_365</th>\n",
              "      <th>host_id</th>\n",
              "      <th>price</th>\n",
              "    </tr>\n",
              "  </thead>\n",
              "  <tbody>\n",
              "    <tr>\n",
              "      <th>295</th>\n",
              "      <td>Manhattan</td>\n",
              "      <td>Morningside Heights</td>\n",
              "      <td>Entire home/apt</td>\n",
              "      <td>0.0</td>\n",
              "      <td>150</td>\n",
              "      <td>130.0</td>\n",
              "    </tr>\n",
              "    <tr>\n",
              "      <th>290</th>\n",
              "      <td>Manhattan</td>\n",
              "      <td>Marble Hill</td>\n",
              "      <td>Entire home/apt</td>\n",
              "      <td>0.0</td>\n",
              "      <td>5</td>\n",
              "      <td>90.0</td>\n",
              "    </tr>\n",
              "    <tr>\n",
              "      <th>282</th>\n",
              "      <td>Manhattan</td>\n",
              "      <td>Kips Bay</td>\n",
              "      <td>Private room</td>\n",
              "      <td>0.0</td>\n",
              "      <td>112</td>\n",
              "      <td>99.0</td>\n",
              "    </tr>\n",
              "    <tr>\n",
              "      <th>33</th>\n",
              "      <td>Bronx</td>\n",
              "      <td>Fieldston</td>\n",
              "      <td>Private room</td>\n",
              "      <td>0.0</td>\n",
              "      <td>7</td>\n",
              "      <td>64.0</td>\n",
              "    </tr>\n",
              "    <tr>\n",
              "      <th>157</th>\n",
              "      <td>Brooklyn</td>\n",
              "      <td>Cobble Hill</td>\n",
              "      <td>Private room</td>\n",
              "      <td>0.0</td>\n",
              "      <td>22</td>\n",
              "      <td>81.0</td>\n",
              "    </tr>\n",
              "    <tr>\n",
              "      <th>270</th>\n",
              "      <td>Manhattan</td>\n",
              "      <td>Greenwich Village</td>\n",
              "      <td>Private room</td>\n",
              "      <td>0.0</td>\n",
              "      <td>99</td>\n",
              "      <td>110.0</td>\n",
              "    </tr>\n",
              "    <tr>\n",
              "      <th>268</th>\n",
              "      <td>Manhattan</td>\n",
              "      <td>Gramercy</td>\n",
              "      <td>Shared room</td>\n",
              "      <td>0.0</td>\n",
              "      <td>5</td>\n",
              "      <td>69.0</td>\n",
              "    </tr>\n",
              "    <tr>\n",
              "      <th>171</th>\n",
              "      <td>Brooklyn</td>\n",
              "      <td>Downtown Brooklyn</td>\n",
              "      <td>Entire home/apt</td>\n",
              "      <td>0.0</td>\n",
              "      <td>52</td>\n",
              "      <td>161.0</td>\n",
              "    </tr>\n",
              "    <tr>\n",
              "      <th>260</th>\n",
              "      <td>Manhattan</td>\n",
              "      <td>East Village</td>\n",
              "      <td>Shared room</td>\n",
              "      <td>0.0</td>\n",
              "      <td>23</td>\n",
              "      <td>75.0</td>\n",
              "    </tr>\n",
              "    <tr>\n",
              "      <th>259</th>\n",
              "      <td>Manhattan</td>\n",
              "      <td>East Village</td>\n",
              "      <td>Private room</td>\n",
              "      <td>0.0</td>\n",
              "      <td>660</td>\n",
              "      <td>95.0</td>\n",
              "    </tr>\n",
              "    <tr>\n",
              "      <th>172</th>\n",
              "      <td>Brooklyn</td>\n",
              "      <td>Downtown Brooklyn</td>\n",
              "      <td>Private room</td>\n",
              "      <td>0.0</td>\n",
              "      <td>31</td>\n",
              "      <td>85.0</td>\n",
              "    </tr>\n",
              "    <tr>\n",
              "      <th>201</th>\n",
              "      <td>Brooklyn</td>\n",
              "      <td>Greenpoint</td>\n",
              "      <td>Private room</td>\n",
              "      <td>0.0</td>\n",
              "      <td>476</td>\n",
              "      <td>75.0</td>\n",
              "    </tr>\n",
              "    <tr>\n",
              "      <th>212</th>\n",
              "      <td>Brooklyn</td>\n",
              "      <td>Navy Yard</td>\n",
              "      <td>Entire home/apt</td>\n",
              "      <td>0.0</td>\n",
              "      <td>10</td>\n",
              "      <td>150.0</td>\n",
              "    </tr>\n",
              "    <tr>\n",
              "      <th>245</th>\n",
              "      <td>Manhattan</td>\n",
              "      <td>Battery Park City</td>\n",
              "      <td>Private room</td>\n",
              "      <td>0.0</td>\n",
              "      <td>21</td>\n",
              "      <td>100.0</td>\n",
              "    </tr>\n",
              "    <tr>\n",
              "      <th>244</th>\n",
              "      <td>Manhattan</td>\n",
              "      <td>Battery Park City</td>\n",
              "      <td>Entire home/apt</td>\n",
              "      <td>0.0</td>\n",
              "      <td>48</td>\n",
              "      <td>225.0</td>\n",
              "    </tr>\n",
              "    <tr>\n",
              "      <th>240</th>\n",
              "      <td>Brooklyn</td>\n",
              "      <td>Williamsburg</td>\n",
              "      <td>Private room</td>\n",
              "      <td>0.0</td>\n",
              "      <td>1997</td>\n",
              "      <td>75.0</td>\n",
              "    </tr>\n",
              "    <tr>\n",
              "      <th>296</th>\n",
              "      <td>Manhattan</td>\n",
              "      <td>Morningside Heights</td>\n",
              "      <td>Private room</td>\n",
              "      <td>0.0</td>\n",
              "      <td>192</td>\n",
              "      <td>75.0</td>\n",
              "    </tr>\n",
              "    <tr>\n",
              "      <th>123</th>\n",
              "      <td>Brooklyn</td>\n",
              "      <td>Bay Ridge</td>\n",
              "      <td>Shared room</td>\n",
              "      <td>0.0</td>\n",
              "      <td>6</td>\n",
              "      <td>23.0</td>\n",
              "    </tr>\n",
              "    <tr>\n",
              "      <th>133</th>\n",
              "      <td>Brooklyn</td>\n",
              "      <td>Boerum Hill</td>\n",
              "      <td>Private room</td>\n",
              "      <td>0.0</td>\n",
              "      <td>40</td>\n",
              "      <td>73.0</td>\n",
              "    </tr>\n",
              "    <tr>\n",
              "      <th>319</th>\n",
              "      <td>Manhattan</td>\n",
              "      <td>Tribeca</td>\n",
              "      <td>Private room</td>\n",
              "      <td>0.0</td>\n",
              "      <td>34</td>\n",
              "      <td>115.0</td>\n",
              "    </tr>\n",
              "  </tbody>\n",
              "</table>\n",
              "</div>"
            ],
            "text/plain": [
              "    neighbourhood_group        neighbourhood  ... host_id  price\n",
              "295           Manhattan  Morningside Heights  ...     150  130.0\n",
              "290           Manhattan          Marble Hill  ...       5   90.0\n",
              "282           Manhattan             Kips Bay  ...     112   99.0\n",
              "33                Bronx            Fieldston  ...       7   64.0\n",
              "157            Brooklyn          Cobble Hill  ...      22   81.0\n",
              "270           Manhattan    Greenwich Village  ...      99  110.0\n",
              "268           Manhattan             Gramercy  ...       5   69.0\n",
              "171            Brooklyn    Downtown Brooklyn  ...      52  161.0\n",
              "260           Manhattan         East Village  ...      23   75.0\n",
              "259           Manhattan         East Village  ...     660   95.0\n",
              "172            Brooklyn    Downtown Brooklyn  ...      31   85.0\n",
              "201            Brooklyn           Greenpoint  ...     476   75.0\n",
              "212            Brooklyn            Navy Yard  ...      10  150.0\n",
              "245           Manhattan    Battery Park City  ...      21  100.0\n",
              "244           Manhattan    Battery Park City  ...      48  225.0\n",
              "240            Brooklyn         Williamsburg  ...    1997   75.0\n",
              "296           Manhattan  Morningside Heights  ...     192   75.0\n",
              "123            Brooklyn            Bay Ridge  ...       6   23.0\n",
              "133            Brooklyn          Boerum Hill  ...      40   73.0\n",
              "319           Manhattan              Tribeca  ...      34  115.0\n",
              "\n",
              "[20 rows x 6 columns]"
            ]
          },
          "metadata": {
            "tags": []
          },
          "execution_count": 82
        }
      ]
    },
    {
      "cell_type": "markdown",
      "metadata": {
        "id": "Wcu_lvmWDErn"
      },
      "source": [
        "Aggregating the median of available days, count of host_id’s and median of price over a group of neighborhood groups, neighborhood and room types, we see that even though total hosts and prices are high, availability is 0 for these are 0 in high demand areas like Manhattan and Brooklyn.\n",
        "From a previous plot and this table, we can infer that customers in these high demand areas prefer to stay in either private rooms or Entire home/apt as compared to shared rooms.\n"
      ]
    },
    {
      "cell_type": "markdown",
      "metadata": {
        "id": "J3BYkotNDSNt"
      },
      "source": [
        "There are two insights we can infer from the above:\n",
        "\n",
        "There is a gap in demand and supply for room types : private rooms, Entire home/apt in high demand areas. Since the price for such listings is also high, we can introduce some initiative to get more private rooms or entire home type Airbnb’s registered in these neighborhoods which will help in increasing the overall revenue.\n",
        "\n",
        "Since customers in these neighborhood groups prefer to stay in private or entire home type Airbnb’s, we can also push for an initiative where some of the shared Airbnb’s could be converted to the other two room types to get more crowd.\n"
      ]
    },
    {
      "cell_type": "markdown",
      "metadata": {
        "id": "YMz5eV_BfI5U"
      },
      "source": [
        "# Marketing + Discounts (People can travel extra to stay here)"
      ]
    },
    {
      "cell_type": "code",
      "metadata": {
        "colab": {
          "base_uri": "https://localhost:8080/",
          "height": 639
        },
        "id": "iR0sGxaSeYvb",
        "outputId": "944ea86e-9345-4b2b-b1a2-15d60d52b3f6"
      },
      "source": [
        "marketing_df = df.groupby(['neighbourhood_group','neighbourhood']).agg({'availability_365':'median','host_id':'count'}).reset_index().sort_values(by=['availability_365'],ascending=False)\n",
        "marketing_df = marketing_df[marketing_df['host_id']>=5]\n",
        "marketing_df.head(20)"
      ],
      "execution_count": 84,
      "outputs": [
        {
          "output_type": "execute_result",
          "data": {
            "text/html": [
              "<div>\n",
              "<style scoped>\n",
              "    .dataframe tbody tr th:only-of-type {\n",
              "        vertical-align: middle;\n",
              "    }\n",
              "\n",
              "    .dataframe tbody tr th {\n",
              "        vertical-align: top;\n",
              "    }\n",
              "\n",
              "    .dataframe thead th {\n",
              "        text-align: right;\n",
              "    }\n",
              "</style>\n",
              "<table border=\"1\" class=\"dataframe\">\n",
              "  <thead>\n",
              "    <tr style=\"text-align: right;\">\n",
              "      <th></th>\n",
              "      <th>neighbourhood_group</th>\n",
              "      <th>neighbourhood</th>\n",
              "      <th>availability_365</th>\n",
              "      <th>host_id</th>\n",
              "    </tr>\n",
              "  </thead>\n",
              "  <tbody>\n",
              "    <tr>\n",
              "      <th>12</th>\n",
              "      <td>Bronx</td>\n",
              "      <td>Eastchester</td>\n",
              "      <td>359.0</td>\n",
              "      <td>13</td>\n",
              "    </tr>\n",
              "    <tr>\n",
              "      <th>205</th>\n",
              "      <td>Staten Island</td>\n",
              "      <td>Randall Manor</td>\n",
              "      <td>340.0</td>\n",
              "      <td>19</td>\n",
              "    </tr>\n",
              "    <tr>\n",
              "      <th>17</th>\n",
              "      <td>Bronx</td>\n",
              "      <td>Hunts Point</td>\n",
              "      <td>330.5</td>\n",
              "      <td>18</td>\n",
              "    </tr>\n",
              "    <tr>\n",
              "      <th>138</th>\n",
              "      <td>Queens</td>\n",
              "      <td>Corona</td>\n",
              "      <td>324.5</td>\n",
              "      <td>64</td>\n",
              "    </tr>\n",
              "    <tr>\n",
              "      <th>184</th>\n",
              "      <td>Staten Island</td>\n",
              "      <td>Concord</td>\n",
              "      <td>320.0</td>\n",
              "      <td>26</td>\n",
              "    </tr>\n",
              "    <tr>\n",
              "      <th>142</th>\n",
              "      <td>Queens</td>\n",
              "      <td>Edgemere</td>\n",
              "      <td>313.0</td>\n",
              "      <td>11</td>\n",
              "    </tr>\n",
              "    <tr>\n",
              "      <th>133</th>\n",
              "      <td>Queens</td>\n",
              "      <td>Bellerose</td>\n",
              "      <td>311.5</td>\n",
              "      <td>14</td>\n",
              "    </tr>\n",
              "    <tr>\n",
              "      <th>217</th>\n",
              "      <td>Staten Island</td>\n",
              "      <td>West Brighton</td>\n",
              "      <td>310.5</td>\n",
              "      <td>18</td>\n",
              "    </tr>\n",
              "    <tr>\n",
              "      <th>46</th>\n",
              "      <td>Bronx</td>\n",
              "      <td>Williamsbridge</td>\n",
              "      <td>307.5</td>\n",
              "      <td>40</td>\n",
              "    </tr>\n",
              "    <tr>\n",
              "      <th>48</th>\n",
              "      <td>Brooklyn</td>\n",
              "      <td>Bath Beach</td>\n",
              "      <td>306.0</td>\n",
              "      <td>17</td>\n",
              "    </tr>\n",
              "    <tr>\n",
              "      <th>179</th>\n",
              "      <td>Staten Island</td>\n",
              "      <td>Arrochar</td>\n",
              "      <td>306.0</td>\n",
              "      <td>21</td>\n",
              "    </tr>\n",
              "    <tr>\n",
              "      <th>216</th>\n",
              "      <td>Staten Island</td>\n",
              "      <td>Tottenville</td>\n",
              "      <td>299.0</td>\n",
              "      <td>7</td>\n",
              "    </tr>\n",
              "    <tr>\n",
              "      <th>156</th>\n",
              "      <td>Queens</td>\n",
              "      <td>Kew Gardens</td>\n",
              "      <td>290.5</td>\n",
              "      <td>32</td>\n",
              "    </tr>\n",
              "    <tr>\n",
              "      <th>151</th>\n",
              "      <td>Queens</td>\n",
              "      <td>Howard Beach</td>\n",
              "      <td>286.5</td>\n",
              "      <td>20</td>\n",
              "    </tr>\n",
              "    <tr>\n",
              "      <th>7</th>\n",
              "      <td>Bronx</td>\n",
              "      <td>Clason Point</td>\n",
              "      <td>283.0</td>\n",
              "      <td>21</td>\n",
              "    </tr>\n",
              "    <tr>\n",
              "      <th>203</th>\n",
              "      <td>Staten Island</td>\n",
              "      <td>Port Richmond</td>\n",
              "      <td>283.0</td>\n",
              "      <td>9</td>\n",
              "    </tr>\n",
              "    <tr>\n",
              "      <th>190</th>\n",
              "      <td>Staten Island</td>\n",
              "      <td>Grant City</td>\n",
              "      <td>276.5</td>\n",
              "      <td>6</td>\n",
              "    </tr>\n",
              "    <tr>\n",
              "      <th>59</th>\n",
              "      <td>Brooklyn</td>\n",
              "      <td>Canarsie</td>\n",
              "      <td>270.0</td>\n",
              "      <td>147</td>\n",
              "    </tr>\n",
              "    <tr>\n",
              "      <th>171</th>\n",
              "      <td>Queens</td>\n",
              "      <td>South Ozone Park</td>\n",
              "      <td>268.5</td>\n",
              "      <td>40</td>\n",
              "    </tr>\n",
              "    <tr>\n",
              "      <th>2</th>\n",
              "      <td>Bronx</td>\n",
              "      <td>Belmont</td>\n",
              "      <td>263.5</td>\n",
              "      <td>24</td>\n",
              "    </tr>\n",
              "  </tbody>\n",
              "</table>\n",
              "</div>"
            ],
            "text/plain": [
              "    neighbourhood_group     neighbourhood  availability_365  host_id\n",
              "12                Bronx       Eastchester             359.0       13\n",
              "205       Staten Island     Randall Manor             340.0       19\n",
              "17                Bronx       Hunts Point             330.5       18\n",
              "138              Queens            Corona             324.5       64\n",
              "184       Staten Island           Concord             320.0       26\n",
              "142              Queens          Edgemere             313.0       11\n",
              "133              Queens         Bellerose             311.5       14\n",
              "217       Staten Island     West Brighton             310.5       18\n",
              "46                Bronx    Williamsbridge             307.5       40\n",
              "48             Brooklyn        Bath Beach             306.0       17\n",
              "179       Staten Island          Arrochar             306.0       21\n",
              "216       Staten Island       Tottenville             299.0        7\n",
              "156              Queens       Kew Gardens             290.5       32\n",
              "151              Queens      Howard Beach             286.5       20\n",
              "7                 Bronx      Clason Point             283.0       21\n",
              "203       Staten Island     Port Richmond             283.0        9\n",
              "190       Staten Island        Grant City             276.5        6\n",
              "59             Brooklyn          Canarsie             270.0      147\n",
              "171              Queens  South Ozone Park             268.5       40\n",
              "2                 Bronx           Belmont             263.5       24"
            ]
          },
          "metadata": {
            "tags": []
          },
          "execution_count": 84
        }
      ]
    },
    {
      "cell_type": "code",
      "metadata": {
        "colab": {
          "base_uri": "https://localhost:8080/",
          "height": 639
        },
        "id": "i1xdV8meek4F",
        "outputId": "cc321072-782c-4b12-988c-c027408c69a3"
      },
      "source": [
        "marketing_df = df.groupby(['neighbourhood_group','neighbourhood','room_type']).agg({'availability_365':'median','host_name':'count','price':'median'}).reset_index().sort_values(by=['availability_365'],ascending=False)\n",
        "marketing_df = marketing_df[marketing_df['host_name']>=5]\n",
        "marketing_df.head(20)"
      ],
      "execution_count": 85,
      "outputs": [
        {
          "output_type": "execute_result",
          "data": {
            "text/html": [
              "<div>\n",
              "<style scoped>\n",
              "    .dataframe tbody tr th:only-of-type {\n",
              "        vertical-align: middle;\n",
              "    }\n",
              "\n",
              "    .dataframe tbody tr th {\n",
              "        vertical-align: top;\n",
              "    }\n",
              "\n",
              "    .dataframe thead th {\n",
              "        text-align: right;\n",
              "    }\n",
              "</style>\n",
              "<table border=\"1\" class=\"dataframe\">\n",
              "  <thead>\n",
              "    <tr style=\"text-align: right;\">\n",
              "      <th></th>\n",
              "      <th>neighbourhood_group</th>\n",
              "      <th>neighbourhood</th>\n",
              "      <th>room_type</th>\n",
              "      <th>availability_365</th>\n",
              "      <th>host_name</th>\n",
              "      <th>price</th>\n",
              "    </tr>\n",
              "  </thead>\n",
              "  <tbody>\n",
              "    <tr>\n",
              "      <th>178</th>\n",
              "      <td>Brooklyn</td>\n",
              "      <td>East Flatbush</td>\n",
              "      <td>Shared room</td>\n",
              "      <td>365.0</td>\n",
              "      <td>24</td>\n",
              "      <td>34.5</td>\n",
              "    </tr>\n",
              "    <tr>\n",
              "      <th>444</th>\n",
              "      <td>Queens</td>\n",
              "      <td>South Ozone Park</td>\n",
              "      <td>Shared room</td>\n",
              "      <td>365.0</td>\n",
              "      <td>8</td>\n",
              "      <td>30.0</td>\n",
              "    </tr>\n",
              "    <tr>\n",
              "      <th>28</th>\n",
              "      <td>Bronx</td>\n",
              "      <td>Eastchester</td>\n",
              "      <td>Private room</td>\n",
              "      <td>364.0</td>\n",
              "      <td>6</td>\n",
              "      <td>68.0</td>\n",
              "    </tr>\n",
              "    <tr>\n",
              "      <th>437</th>\n",
              "      <td>Queens</td>\n",
              "      <td>Ridgewood</td>\n",
              "      <td>Shared room</td>\n",
              "      <td>361.5</td>\n",
              "      <td>10</td>\n",
              "      <td>31.5</td>\n",
              "    </tr>\n",
              "    <tr>\n",
              "      <th>27</th>\n",
              "      <td>Bronx</td>\n",
              "      <td>Eastchester</td>\n",
              "      <td>Entire home/apt</td>\n",
              "      <td>358.5</td>\n",
              "      <td>6</td>\n",
              "      <td>202.5</td>\n",
              "    </tr>\n",
              "    <tr>\n",
              "      <th>137</th>\n",
              "      <td>Brooklyn</td>\n",
              "      <td>Borough Park</td>\n",
              "      <td>Shared room</td>\n",
              "      <td>357.0</td>\n",
              "      <td>16</td>\n",
              "      <td>35.0</td>\n",
              "    </tr>\n",
              "    <tr>\n",
              "      <th>511</th>\n",
              "      <td>Staten Island</td>\n",
              "      <td>Randall Manor</td>\n",
              "      <td>Private room</td>\n",
              "      <td>355.0</td>\n",
              "      <td>9</td>\n",
              "      <td>55.0</td>\n",
              "    </tr>\n",
              "    <tr>\n",
              "      <th>362</th>\n",
              "      <td>Queens</td>\n",
              "      <td>Corona</td>\n",
              "      <td>Shared room</td>\n",
              "      <td>354.0</td>\n",
              "      <td>24</td>\n",
              "      <td>27.5</td>\n",
              "    </tr>\n",
              "    <tr>\n",
              "      <th>507</th>\n",
              "      <td>Staten Island</td>\n",
              "      <td>Port Richmond</td>\n",
              "      <td>Private room</td>\n",
              "      <td>353.0</td>\n",
              "      <td>6</td>\n",
              "      <td>48.5</td>\n",
              "    </tr>\n",
              "    <tr>\n",
              "      <th>17</th>\n",
              "      <td>Bronx</td>\n",
              "      <td>Clason Point</td>\n",
              "      <td>Private room</td>\n",
              "      <td>349.0</td>\n",
              "      <td>11</td>\n",
              "      <td>70.0</td>\n",
              "    </tr>\n",
              "    <tr>\n",
              "      <th>452</th>\n",
              "      <td>Queens</td>\n",
              "      <td>Sunnyside</td>\n",
              "      <td>Shared room</td>\n",
              "      <td>343.0</td>\n",
              "      <td>25</td>\n",
              "      <td>30.0</td>\n",
              "    </tr>\n",
              "    <tr>\n",
              "      <th>140</th>\n",
              "      <td>Brooklyn</td>\n",
              "      <td>Brighton Beach</td>\n",
              "      <td>Shared room</td>\n",
              "      <td>343.0</td>\n",
              "      <td>7</td>\n",
              "      <td>50.0</td>\n",
              "    </tr>\n",
              "    <tr>\n",
              "      <th>350</th>\n",
              "      <td>Queens</td>\n",
              "      <td>Bellerose</td>\n",
              "      <td>Private room</td>\n",
              "      <td>342.5</td>\n",
              "      <td>10</td>\n",
              "      <td>70.0</td>\n",
              "    </tr>\n",
              "    <tr>\n",
              "      <th>534</th>\n",
              "      <td>Staten Island</td>\n",
              "      <td>West Brighton</td>\n",
              "      <td>Entire home/apt</td>\n",
              "      <td>342.0</td>\n",
              "      <td>5</td>\n",
              "      <td>99.0</td>\n",
              "    </tr>\n",
              "    <tr>\n",
              "      <th>510</th>\n",
              "      <td>Staten Island</td>\n",
              "      <td>Randall Manor</td>\n",
              "      <td>Entire home/apt</td>\n",
              "      <td>340.0</td>\n",
              "      <td>9</td>\n",
              "      <td>109.0</td>\n",
              "    </tr>\n",
              "    <tr>\n",
              "      <th>527</th>\n",
              "      <td>Staten Island</td>\n",
              "      <td>Stapleton</td>\n",
              "      <td>Private room</td>\n",
              "      <td>340.0</td>\n",
              "      <td>17</td>\n",
              "      <td>55.0</td>\n",
              "    </tr>\n",
              "    <tr>\n",
              "      <th>473</th>\n",
              "      <td>Staten Island</td>\n",
              "      <td>Concord</td>\n",
              "      <td>Private room</td>\n",
              "      <td>333.0</td>\n",
              "      <td>19</td>\n",
              "      <td>34.0</td>\n",
              "    </tr>\n",
              "    <tr>\n",
              "      <th>439</th>\n",
              "      <td>Queens</td>\n",
              "      <td>Rockaway Beach</td>\n",
              "      <td>Private room</td>\n",
              "      <td>332.5</td>\n",
              "      <td>14</td>\n",
              "      <td>80.0</td>\n",
              "    </tr>\n",
              "    <tr>\n",
              "      <th>41</th>\n",
              "      <td>Bronx</td>\n",
              "      <td>Hunts Point</td>\n",
              "      <td>Private room</td>\n",
              "      <td>332.0</td>\n",
              "      <td>17</td>\n",
              "      <td>40.0</td>\n",
              "    </tr>\n",
              "    <tr>\n",
              "      <th>114</th>\n",
              "      <td>Bronx</td>\n",
              "      <td>Williamsbridge</td>\n",
              "      <td>Entire home/apt</td>\n",
              "      <td>326.0</td>\n",
              "      <td>19</td>\n",
              "      <td>87.0</td>\n",
              "    </tr>\n",
              "  </tbody>\n",
              "</table>\n",
              "</div>"
            ],
            "text/plain": [
              "    neighbourhood_group     neighbourhood  ... host_name  price\n",
              "178            Brooklyn     East Flatbush  ...        24   34.5\n",
              "444              Queens  South Ozone Park  ...         8   30.0\n",
              "28                Bronx       Eastchester  ...         6   68.0\n",
              "437              Queens         Ridgewood  ...        10   31.5\n",
              "27                Bronx       Eastchester  ...         6  202.5\n",
              "137            Brooklyn      Borough Park  ...        16   35.0\n",
              "511       Staten Island     Randall Manor  ...         9   55.0\n",
              "362              Queens            Corona  ...        24   27.5\n",
              "507       Staten Island     Port Richmond  ...         6   48.5\n",
              "17                Bronx      Clason Point  ...        11   70.0\n",
              "452              Queens         Sunnyside  ...        25   30.0\n",
              "140            Brooklyn    Brighton Beach  ...         7   50.0\n",
              "350              Queens         Bellerose  ...        10   70.0\n",
              "534       Staten Island     West Brighton  ...         5   99.0\n",
              "510       Staten Island     Randall Manor  ...         9  109.0\n",
              "527       Staten Island         Stapleton  ...        17   55.0\n",
              "473       Staten Island           Concord  ...        19   34.0\n",
              "439              Queens    Rockaway Beach  ...        14   80.0\n",
              "41                Bronx       Hunts Point  ...        17   40.0\n",
              "114               Bronx    Williamsbridge  ...        19   87.0\n",
              "\n",
              "[20 rows x 6 columns]"
            ]
          },
          "metadata": {
            "tags": []
          },
          "execution_count": 85
        }
      ]
    },
    {
      "cell_type": "markdown",
      "metadata": {
        "id": "gssv77CtDVA5"
      },
      "source": [
        "We can infer that it is expected there will be fewer customers for areas like Bronx and Staten Island, since it is away from the city center.\n",
        "We can introduce some discounts on listings in these neighborhood groups which might attract a crowd and might help in revenue generation.\n",
        "\n"
      ]
    },
    {
      "cell_type": "code",
      "metadata": {
        "id": "eQAq05jFetBU"
      },
      "source": [
        "import urllib\n",
        "#initializing the figure size\n",
        "plt.figure(figsize=(10,8))\n",
        "#loading the png NYC image found on Google and saving to my local folder along with the project\n",
        "i=urllib.request.urlopen('https://upload.wikimedia.org/wikipedia/commons/e/ec/Neighbourhoods_New_York_City_Map.PNG')\n",
        "nyc_img=plt.imread(i)\n",
        "#scaling the image based on the latitude and longitude max and mins for proper output\n",
        "plt.imshow(nyc_img,zorder=0,extent=[-74.258, -73.7, 40.49,40.92])\n",
        "ax=plt.gca()\n",
        "#using scatterplot again\n",
        "df.plot(kind='scatter', x='longitude', y='latitude', label='availability_365', c='price', ax=ax, \n",
        "           cmap=plt.get_cmap('jet'), colorbar=True, alpha=0.4, zorder=5)\n",
        "\n",
        "plt.legend()\n",
        "plt.show()"
      ],
      "execution_count": null,
      "outputs": []
    },
    {
      "cell_type": "code",
      "metadata": {
        "id": "nwxF3T7qfogh"
      },
      "source": [
        ""
      ],
      "execution_count": null,
      "outputs": []
    }
  ]
}